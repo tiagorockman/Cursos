{
 "cells": [
  {
   "cell_type": "code",
   "execution_count": 3,
   "metadata": {},
   "outputs": [
    {
     "name": "stderr",
     "output_type": "stream",
     "text": [
      "Loading required package: RMariaDB\n"
     ]
    }
   ],
   "source": [
    "#Questão 3 \n",
    "#Considerando o programa abaixo, escrito na linguagem R, marque a opção correta que represente o resultado esperado para execução do comando da linha 13.\n",
    "#Questão 4\n",
    "#Considerando o programa abaixo, escrito na linguagem R, marque a opção INCORRETA.\n",
    "if(!\"RMariaDB\" %in% (.packages())){require(RMariaDB)}"
   ]
  },
  {
   "cell_type": "code",
   "execution_count": 4,
   "metadata": {},
   "outputs": [],
   "source": [
    "#conecta banco\n",
    "con <- dbConnect(MariaDB(), user=\"root\", password =\"igti\",\n",
    "                dbname=\"bootcamp\", host=\"localhost\", serverTimezone='UTC')\n"
   ]
  },
  {
   "cell_type": "code",
   "execution_count": 6,
   "metadata": {},
   "outputs": [
    {
     "data": {
      "text/html": [
       "<ol class=list-inline>\n",
       "\t<li>'caracteristicageralimovel'</li>\n",
       "\t<li>'caracteristicasgerais'</li>\n",
       "\t<li>'cidade'</li>\n",
       "\t<li>'estado'</li>\n",
       "\t<li>'imovel'</li>\n",
       "\t<li>'tipounidade'</li>\n",
       "</ol>\n"
      ],
      "text/latex": [
       "\\begin{enumerate*}\n",
       "\\item 'caracteristicageralimovel'\n",
       "\\item 'caracteristicasgerais'\n",
       "\\item 'cidade'\n",
       "\\item 'estado'\n",
       "\\item 'imovel'\n",
       "\\item 'tipounidade'\n",
       "\\end{enumerate*}\n"
      ],
      "text/markdown": [
       "1. 'caracteristicageralimovel'\n",
       "2. 'caracteristicasgerais'\n",
       "3. 'cidade'\n",
       "4. 'estado'\n",
       "5. 'imovel'\n",
       "6. 'tipounidade'\n",
       "\n",
       "\n"
      ],
      "text/plain": [
       "[1] \"caracteristicageralimovel\" \"caracteristicasgerais\"    \n",
       "[3] \"cidade\"                    \"estado\"                   \n",
       "[5] \"imovel\"                    \"tipounidade\"              "
      ]
     },
     "metadata": {},
     "output_type": "display_data"
    },
    {
     "data": {
      "text/html": [
       "<table>\n",
       "<thead><tr><th scope=col>idcaracteristicasGerais</th><th scope=col>dsccaracteristicasGerais</th></tr></thead>\n",
       "<tbody>\n",
       "\t<tr><td> 1                 </td><td>Portaria 24 horas  </td></tr>\n",
       "\t<tr><td> 2                 </td><td>Elevador           </td></tr>\n",
       "\t<tr><td> 3                 </td><td>Piscina            </td></tr>\n",
       "\t<tr><td> 4                 </td><td>Salão de festas    </td></tr>\n",
       "\t<tr><td> 5                 </td><td>Área gourmet       </td></tr>\n",
       "\t<tr><td> 6                 </td><td>Água individual    </td></tr>\n",
       "\t<tr><td> 7                 </td><td>Gás canalizado     </td></tr>\n",
       "\t<tr><td> 8                 </td><td>Aquecimento solar  </td></tr>\n",
       "\t<tr><td> 9                 </td><td>Vaga coberta       </td></tr>\n",
       "\t<tr><td>10                 </td><td>Vaga livre         </td></tr>\n",
       "\t<tr><td>11                 </td><td>Armários na cozinha</td></tr>\n",
       "\t<tr><td>12                 </td><td>Closet             </td></tr>\n",
       "\t<tr><td>13                 </td><td>Armários no quarto </td></tr>\n",
       "</tbody>\n",
       "</table>\n"
      ],
      "text/latex": [
       "\\begin{tabular}{r|ll}\n",
       " idcaracteristicasGerais & dsccaracteristicasGerais\\\\\n",
       "\\hline\n",
       "\t  1                  & Portaria 24 horas  \\\\\n",
       "\t  2                  & Elevador           \\\\\n",
       "\t  3                  & Piscina            \\\\\n",
       "\t  4                  & Salão de festas    \\\\\n",
       "\t  5                  & Área gourmet       \\\\\n",
       "\t  6                  & Água individual    \\\\\n",
       "\t  7                  & Gás canalizado     \\\\\n",
       "\t  8                  & Aquecimento solar  \\\\\n",
       "\t  9                  & Vaga coberta       \\\\\n",
       "\t 10                  & Vaga livre         \\\\\n",
       "\t 11                  & Armários na cozinha\\\\\n",
       "\t 12                  & Closet             \\\\\n",
       "\t 13                  & Armários no quarto \\\\\n",
       "\\end{tabular}\n"
      ],
      "text/markdown": [
       "\n",
       "idcaracteristicasGerais | dsccaracteristicasGerais | \n",
       "|---|---|---|---|---|---|---|---|---|---|---|---|---|\n",
       "|  1                  | Portaria 24 horas   | \n",
       "|  2                  | Elevador            | \n",
       "|  3                  | Piscina             | \n",
       "|  4                  | Salão de festas     | \n",
       "|  5                  | Área gourmet        | \n",
       "|  6                  | Água individual     | \n",
       "|  7                  | Gás canalizado      | \n",
       "|  8                  | Aquecimento solar   | \n",
       "|  9                  | Vaga coberta        | \n",
       "| 10                  | Vaga livre          | \n",
       "| 11                  | Armários na cozinha | \n",
       "| 12                  | Closet              | \n",
       "| 13                  | Armários no quarto  | \n",
       "\n",
       "\n"
      ],
      "text/plain": [
       "   idcaracteristicasGerais dsccaracteristicasGerais\n",
       "1   1                      Portaria 24 horas       \n",
       "2   2                      Elevador                \n",
       "3   3                      Piscina                 \n",
       "4   4                      Salão de festas         \n",
       "5   5                      Área gourmet            \n",
       "6   6                      Água individual         \n",
       "7   7                      Gás canalizado          \n",
       "8   8                      Aquecimento solar       \n",
       "9   9                      Vaga coberta            \n",
       "10 10                      Vaga livre              \n",
       "11 11                      Armários na cozinha     \n",
       "12 12                      Closet                  \n",
       "13 13                      Armários no quarto      "
      ]
     },
     "metadata": {},
     "output_type": "display_data"
    }
   ],
   "source": [
    "resultado <- dbListTables(con) \n",
    "resultado\n",
    "\n",
    "resultado <- dbReadTable(con,\"tipounidade\")\n",
    "resultado <- dbReadTable(con, \"caracteristicasgerais\")\n",
    "resultado\n",
    "\n",
    "resultado <- dbSendQuery(con, \"INSERT INTO tipounidade(idTipoUnidade, descTipoUnidade) VALUES(9,'Fazenda');\")\n",
    "resultado\n",
    "\n",
    "query <- \"SELECt * from caracteristicasgerais;\"\n",
    "resultado <- dbGetQuery(con, query)\n",
    "resuttado\n"
   ]
  },
  {
   "cell_type": "code",
   "execution_count": null,
   "metadata": {},
   "outputs": [],
   "source": []
  }
 ],
 "metadata": {
  "kernelspec": {
   "display_name": "R",
   "language": "R",
   "name": "ir"
  },
  "language_info": {
   "codemirror_mode": "r",
   "file_extension": ".r",
   "mimetype": "text/x-r-source",
   "name": "R",
   "pygments_lexer": "r",
   "version": "3.4.3"
  }
 },
 "nbformat": 4,
 "nbformat_minor": 4
}
