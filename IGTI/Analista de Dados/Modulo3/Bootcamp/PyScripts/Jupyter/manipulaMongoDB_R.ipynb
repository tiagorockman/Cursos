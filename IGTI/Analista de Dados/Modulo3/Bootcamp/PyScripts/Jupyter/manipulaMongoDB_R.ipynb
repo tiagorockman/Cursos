{
 "cells": [
  {
   "cell_type": "code",
   "execution_count": 1,
   "metadata": {},
   "outputs": [
    {
     "name": "stderr",
     "output_type": "stream",
     "text": [
      "Loading required package: mongolite\n",
      "\n"
     ]
    }
   ],
   "source": [
    "#importa biblioteca\n",
    "require(mongolite)"
   ]
  },
  {
   "cell_type": "code",
   "execution_count": 20,
   "metadata": {},
   "outputs": [],
   "source": [
    "#ler arquivo csv para inserir no nova collection\n",
    "megafile <- read.csv(\"C:/Users/jose.sousa1/Documents/Treinamentos/Cursos - Git Repository/IGTI/Modulo3/Bootcamp/PyScripts/Jupyter/megasena.csv\");"
   ]
  },
  {
   "cell_type": "code",
   "execution_count": 21,
   "metadata": {},
   "outputs": [],
   "source": [
    "#conecta ao SGBD MongoDB\n",
    "connection <- mongo(collection = \"megasena\", db = \"igti\", url=\"mongodb://localhost\")"
   ]
  },
  {
   "cell_type": "code",
   "execution_count": 22,
   "metadata": {},
   "outputs": [
    {
     "data": {
      "text/plain": [
       "List of 5\n",
       " $ nInserted  : num 2032\n",
       " $ nMatched   : num 0\n",
       " $ nRemoved   : num 0\n",
       " $ nUpserted  : num 0\n",
       " $ writeErrors: list()"
      ]
     },
     "metadata": {},
     "output_type": "display_data"
    }
   ],
   "source": [
    "#insere informacao\n",
    "connection$insert(megafile)"
   ]
  },
  {
   "cell_type": "code",
   "execution_count": 29,
   "metadata": {},
   "outputs": [
    {
     "data": {
      "text/html": [
       "<table>\n",
       "<caption>A data.frame: 21 × 21</caption>\n",
       "<thead>\n",
       "\t<tr><th></th><th scope=col>Concurso</th><th scope=col>Data_Sorteio</th><th scope=col>X1Ã‚Âª_Dezena</th><th scope=col>X2Ã‚Âª_Dezena</th><th scope=col>X3Ã‚Âª_Dezena</th><th scope=col>X4Ã‚Âª_Dezena</th><th scope=col>X5Ã‚Âª_Dezena</th><th scope=col>X6Ã‚Âª_Dezena</th><th scope=col>Arrecadacao_Total</th><th scope=col>Ganhadores_Sena</th><th scope=col>⋯</th><th scope=col>UF</th><th scope=col>Rateio_Sena</th><th scope=col>Ganhadores_Quina</th><th scope=col>Rateio_Quina</th><th scope=col>Ganhadores_Quadra</th><th scope=col>Rateio_Quadra</th><th scope=col>Acumulado</th><th scope=col>Valor_Acumulado</th><th scope=col>Estimativa_PrÃƒÂªmio</th><th scope=col>Acumulado_Mega_da_Virada</th></tr>\n",
       "\t<tr><th></th><th scope=col>&lt;int&gt;</th><th scope=col>&lt;chr&gt;</th><th scope=col>&lt;int&gt;</th><th scope=col>&lt;int&gt;</th><th scope=col>&lt;int&gt;</th><th scope=col>&lt;int&gt;</th><th scope=col>&lt;int&gt;</th><th scope=col>&lt;int&gt;</th><th scope=col>&lt;chr&gt;</th><th scope=col>&lt;int&gt;</th><th scope=col>⋯</th><th scope=col>&lt;chr&gt;</th><th scope=col>&lt;chr&gt;</th><th scope=col>&lt;int&gt;</th><th scope=col>&lt;chr&gt;</th><th scope=col>&lt;int&gt;</th><th scope=col>&lt;chr&gt;</th><th scope=col>&lt;chr&gt;</th><th scope=col>&lt;chr&gt;</th><th scope=col>&lt;int&gt;</th><th scope=col>&lt;chr&gt;</th></tr>\n",
       "</thead>\n",
       "<tbody>\n",
       "\t<tr><th scope=row>1</th><td> 1</td><td>11/03/1996</td><td> 4</td><td> 5</td><td>30</td><td>33</td><td>41</td><td>52</td><td>0</td><td> 0</td><td>⋯</td><td>Â  </td><td>0          </td><td> 17</td><td>39158,92</td><td> 2016</td><td>330,21</td><td>SIM </td><td>1714650,23 </td><td> 0</td><td>0</td></tr>\n",
       "\t<tr><th scope=row>2</th><td> 2</td><td>18/03/1996</td><td> 9</td><td>37</td><td>39</td><td>41</td><td>43</td><td>49</td><td>0</td><td> 1</td><td>⋯</td><td>PR </td><td>2307162,23 </td><td> 65</td><td>14424,02</td><td> 4488</td><td>208,91</td><td>NÃƒO</td><td>0          </td><td> 0</td><td>0</td></tr>\n",
       "\t<tr><th scope=row>3</th><td> 3</td><td>25/03/1996</td><td>10</td><td>11</td><td>29</td><td>30</td><td>36</td><td>47</td><td>0</td><td> 2</td><td>⋯</td><td>RN </td><td>391192,51  </td><td> 62</td><td>10515,93</td><td> 4261</td><td>153,01</td><td>NÃƒO</td><td>0          </td><td> 0</td><td>0</td></tr>\n",
       "\t<tr><th scope=row>4</th><td>NA</td><td>          </td><td>NA</td><td>NA</td><td>NA</td><td>NA</td><td>NA</td><td>NA</td><td> </td><td>NA</td><td>⋯</td><td>SP </td><td>           </td><td> NA</td><td>        </td><td>   NA</td><td>      </td><td>    </td><td>           </td><td>NA</td><td> </td></tr>\n",
       "\t<tr><th scope=row>5</th><td> 4</td><td>01/04/1996</td><td> 1</td><td> 5</td><td> 6</td><td>27</td><td>42</td><td>59</td><td>0</td><td> 0</td><td>⋯</td><td>Â  </td><td>0          </td><td> 39</td><td>15322,24</td><td> 3311</td><td>180,48</td><td>SIM </td><td>717080,75  </td><td> 0</td><td>0</td></tr>\n",
       "\t<tr><th scope=row>6</th><td> 5</td><td>08/04/1996</td><td> 1</td><td> 2</td><td> 6</td><td>16</td><td>19</td><td>46</td><td>0</td><td> 0</td><td>⋯</td><td>Â  </td><td>0          </td><td> 98</td><td>5318,1  </td><td> 5399</td><td>96,53 </td><td>SIM </td><td>1342488,85 </td><td> 0</td><td>0</td></tr>\n",
       "\t<tr><th scope=row>7</th><td> 6</td><td>15/04/1996</td><td> 7</td><td>13</td><td>19</td><td>22</td><td>40</td><td>47</td><td>0</td><td> 0</td><td>⋯</td><td>Â  </td><td>0          </td><td>109</td><td>7214,66 </td><td> 7147</td><td>110,03</td><td>SIM </td><td>2286166,33 </td><td> 0</td><td>0</td></tr>\n",
       "\t<tr><th scope=row>8</th><td> 7</td><td>22/04/1996</td><td> 3</td><td> 5</td><td>20</td><td>21</td><td>38</td><td>56</td><td>0</td><td> 0</td><td>⋯</td><td>Â  </td><td>0          </td><td>100</td><td>8746,05 </td><td> 5736</td><td>152,48</td><td>SIM </td><td>3335692,28 </td><td> 0</td><td>0</td></tr>\n",
       "\t<tr><th scope=row>9</th><td> 8</td><td>29/04/1996</td><td> 4</td><td>17</td><td>37</td><td>38</td><td>47</td><td>53</td><td>0</td><td> 0</td><td>⋯</td><td>Â  </td><td>0          </td><td> 60</td><td>16084,11</td><td> 5262</td><td>183,4 </td><td>SIM </td><td>4493748,19 </td><td> 0</td><td>0</td></tr>\n",
       "\t<tr><th scope=row>10</th><td> 9</td><td>06/05/1996</td><td> 8</td><td>43</td><td>54</td><td>55</td><td>56</td><td>60</td><td>0</td><td> 0</td><td>⋯</td><td>Â  </td><td>0          </td><td> 17</td><td>60043,79</td><td> 2175</td><td>469,31</td><td>SIM </td><td>5718641,49 </td><td> 0</td><td>0</td></tr>\n",
       "\t<tr><th scope=row>11</th><td>10</td><td>13/05/1996</td><td> 4</td><td>18</td><td>21</td><td>25</td><td>38</td><td>57</td><td>0</td><td> 0</td><td>⋯</td><td>Â  </td><td>0          </td><td>251</td><td>6638,45 </td><td>12590</td><td>132,35</td><td>SIM </td><td>13334769,81</td><td> 0</td><td>0</td></tr>\n",
       "\t<tr><th scope=row>12</th><td>11</td><td>20/05/1996</td><td>15</td><td>25</td><td>37</td><td>38</td><td>58</td><td>59</td><td>0</td><td> 1</td><td>⋯</td><td>RJ </td><td>15591365,07</td><td>148</td><td>12706,05</td><td> 9442</td><td>199,16</td><td>NÃƒO</td><td>0          </td><td> 0</td><td>0</td></tr>\n",
       "\t<tr><th scope=row>13</th><td>12</td><td>27/05/1996</td><td> 4</td><td>16</td><td>19</td><td>20</td><td>27</td><td>43</td><td>0</td><td> 0</td><td>⋯</td><td>Â  </td><td>0          </td><td>108</td><td>6791,17 </td><td> 6454</td><td>113,64</td><td>SIM </td><td>880136,24  </td><td> 0</td><td>0</td></tr>\n",
       "\t<tr><th scope=row>14</th><td>13</td><td>03/06/1996</td><td>18</td><td>32</td><td>47</td><td>50</td><td>54</td><td>56</td><td>0</td><td> 0</td><td>⋯</td><td>Â  </td><td>0          </td><td> 43</td><td>20543,98</td><td> 2934</td><td>301,09</td><td>SIM </td><td>1940205,35 </td><td> 0</td><td>0</td></tr>\n",
       "\t<tr><th scope=row>15</th><td>14</td><td>10/06/1996</td><td> 2</td><td>16</td><td>23</td><td>27</td><td>47</td><td>53</td><td>0</td><td> 0</td><td>⋯</td><td>Â  </td><td>0          </td><td> 85</td><td>10458,19</td><td> 5323</td><td>167   </td><td>SIM </td><td>3006941,32 </td><td> 0</td><td>0</td></tr>\n",
       "\t<tr><th scope=row>16</th><td>15</td><td>17/06/1996</td><td>12</td><td>33</td><td>35</td><td>51</td><td>52</td><td>60</td><td>0</td><td> 0</td><td>⋯</td><td>Â  </td><td>0          </td><td> 57</td><td>17919,89</td><td> 3931</td><td>259,84</td><td>SIM </td><td>4232661,35 </td><td> 0</td><td>0</td></tr>\n",
       "\t<tr><th scope=row>17</th><td>16</td><td>24/06/1996</td><td>20</td><td>32</td><td>34</td><td>49</td><td>58</td><td>60</td><td>0</td><td> 0</td><td>⋯</td><td>Â  </td><td>0          </td><td> 31</td><td>33307,13</td><td> 3250</td><td>317,7 </td><td>SIM </td><td>5471686,62 </td><td> 0</td><td>0</td></tr>\n",
       "\t<tr><th scope=row>18</th><td>17</td><td>01/07/1996</td><td> 6</td><td>10</td><td>13</td><td>19</td><td>20</td><td>51</td><td>0</td><td> 1</td><td>⋯</td><td>SP </td><td>6789869,08 </td><td>144</td><td>7628,37 </td><td> 9376</td><td>117,16</td><td>NÃƒO</td><td>0          </td><td> 0</td><td>0</td></tr>\n",
       "\t<tr><th scope=row>19</th><td>18</td><td>08/07/1996</td><td>23</td><td>27</td><td>36</td><td>37</td><td>42</td><td>56</td><td>0</td><td> 0</td><td>⋯</td><td>Â  </td><td>0          </td><td> 52</td><td>13763,52</td><td> 4484</td><td>159,61</td><td>SIM </td><td>858843,48  </td><td> 0</td><td>0</td></tr>\n",
       "\t<tr><th scope=row>20</th><td>19</td><td>15/07/1996</td><td> 5</td><td>10</td><td>12</td><td>24</td><td>25</td><td>60</td><td>0</td><td> 0</td><td>⋯</td><td>Â  </td><td>0          </td><td>159</td><td>5380,14 </td><td> 9250</td><td>92,48 </td><td>SIM </td><td>10506266,73</td><td> 0</td><td>0</td></tr>\n",
       "\t<tr><th scope=row>21</th><td>20</td><td>22/07/1996</td><td>11</td><td>25</td><td>28</td><td>30</td><td>33</td><td>51</td><td>0</td><td> 0</td><td>⋯</td><td>Â  </td><td>0          </td><td> 72</td><td>15486,97</td><td> 5728</td><td>194,67</td><td>SIM </td><td>11844340,83</td><td> 0</td><td>0</td></tr>\n",
       "</tbody>\n",
       "</table>\n"
      ],
      "text/latex": [
       "A data.frame: 21 × 21\n",
       "\\begin{tabular}{r|lllllllllllllllllllll}\n",
       "  & Concurso & Data\\_Sorteio & X1Ã‚Âª\\_Dezena & X2Ã‚Âª\\_Dezena & X3Ã‚Âª\\_Dezena & X4Ã‚Âª\\_Dezena & X5Ã‚Âª\\_Dezena & X6Ã‚Âª\\_Dezena & Arrecadacao\\_Total & Ganhadores\\_Sena & ⋯ & UF & Rateio\\_Sena & Ganhadores\\_Quina & Rateio\\_Quina & Ganhadores\\_Quadra & Rateio\\_Quadra & Acumulado & Valor\\_Acumulado & Estimativa\\_PrÃƒÂªmio & Acumulado\\_Mega\\_da\\_Virada\\\\\n",
       "  & <int> & <chr> & <int> & <int> & <int> & <int> & <int> & <int> & <chr> & <int> & ⋯ & <chr> & <chr> & <int> & <chr> & <int> & <chr> & <chr> & <chr> & <int> & <chr>\\\\\n",
       "\\hline\n",
       "\t1 &  1 & 11/03/1996 &  4 &  5 & 30 & 33 & 41 & 52 & 0 &  0 & ⋯ & Â   & 0           &  17 & 39158,92 &  2016 & 330,21 & SIM  & 1714650,23  &  0 & 0\\\\\n",
       "\t2 &  2 & 18/03/1996 &  9 & 37 & 39 & 41 & 43 & 49 & 0 &  1 & ⋯ & PR  & 2307162,23  &  65 & 14424,02 &  4488 & 208,91 & NÃƒO & 0           &  0 & 0\\\\\n",
       "\t3 &  3 & 25/03/1996 & 10 & 11 & 29 & 30 & 36 & 47 & 0 &  2 & ⋯ & RN  & 391192,51   &  62 & 10515,93 &  4261 & 153,01 & NÃƒO & 0           &  0 & 0\\\\\n",
       "\t4 & NA &            & NA & NA & NA & NA & NA & NA &   & NA & ⋯ & SP  &             &  NA &          &    NA &        &      &             & NA &  \\\\\n",
       "\t5 &  4 & 01/04/1996 &  1 &  5 &  6 & 27 & 42 & 59 & 0 &  0 & ⋯ & Â   & 0           &  39 & 15322,24 &  3311 & 180,48 & SIM  & 717080,75   &  0 & 0\\\\\n",
       "\t6 &  5 & 08/04/1996 &  1 &  2 &  6 & 16 & 19 & 46 & 0 &  0 & ⋯ & Â   & 0           &  98 & 5318,1   &  5399 & 96,53  & SIM  & 1342488,85  &  0 & 0\\\\\n",
       "\t7 &  6 & 15/04/1996 &  7 & 13 & 19 & 22 & 40 & 47 & 0 &  0 & ⋯ & Â   & 0           & 109 & 7214,66  &  7147 & 110,03 & SIM  & 2286166,33  &  0 & 0\\\\\n",
       "\t8 &  7 & 22/04/1996 &  3 &  5 & 20 & 21 & 38 & 56 & 0 &  0 & ⋯ & Â   & 0           & 100 & 8746,05  &  5736 & 152,48 & SIM  & 3335692,28  &  0 & 0\\\\\n",
       "\t9 &  8 & 29/04/1996 &  4 & 17 & 37 & 38 & 47 & 53 & 0 &  0 & ⋯ & Â   & 0           &  60 & 16084,11 &  5262 & 183,4  & SIM  & 4493748,19  &  0 & 0\\\\\n",
       "\t10 &  9 & 06/05/1996 &  8 & 43 & 54 & 55 & 56 & 60 & 0 &  0 & ⋯ & Â   & 0           &  17 & 60043,79 &  2175 & 469,31 & SIM  & 5718641,49  &  0 & 0\\\\\n",
       "\t11 & 10 & 13/05/1996 &  4 & 18 & 21 & 25 & 38 & 57 & 0 &  0 & ⋯ & Â   & 0           & 251 & 6638,45  & 12590 & 132,35 & SIM  & 13334769,81 &  0 & 0\\\\\n",
       "\t12 & 11 & 20/05/1996 & 15 & 25 & 37 & 38 & 58 & 59 & 0 &  1 & ⋯ & RJ  & 15591365,07 & 148 & 12706,05 &  9442 & 199,16 & NÃƒO & 0           &  0 & 0\\\\\n",
       "\t13 & 12 & 27/05/1996 &  4 & 16 & 19 & 20 & 27 & 43 & 0 &  0 & ⋯ & Â   & 0           & 108 & 6791,17  &  6454 & 113,64 & SIM  & 880136,24   &  0 & 0\\\\\n",
       "\t14 & 13 & 03/06/1996 & 18 & 32 & 47 & 50 & 54 & 56 & 0 &  0 & ⋯ & Â   & 0           &  43 & 20543,98 &  2934 & 301,09 & SIM  & 1940205,35  &  0 & 0\\\\\n",
       "\t15 & 14 & 10/06/1996 &  2 & 16 & 23 & 27 & 47 & 53 & 0 &  0 & ⋯ & Â   & 0           &  85 & 10458,19 &  5323 & 167    & SIM  & 3006941,32  &  0 & 0\\\\\n",
       "\t16 & 15 & 17/06/1996 & 12 & 33 & 35 & 51 & 52 & 60 & 0 &  0 & ⋯ & Â   & 0           &  57 & 17919,89 &  3931 & 259,84 & SIM  & 4232661,35  &  0 & 0\\\\\n",
       "\t17 & 16 & 24/06/1996 & 20 & 32 & 34 & 49 & 58 & 60 & 0 &  0 & ⋯ & Â   & 0           &  31 & 33307,13 &  3250 & 317,7  & SIM  & 5471686,62  &  0 & 0\\\\\n",
       "\t18 & 17 & 01/07/1996 &  6 & 10 & 13 & 19 & 20 & 51 & 0 &  1 & ⋯ & SP  & 6789869,08  & 144 & 7628,37  &  9376 & 117,16 & NÃƒO & 0           &  0 & 0\\\\\n",
       "\t19 & 18 & 08/07/1996 & 23 & 27 & 36 & 37 & 42 & 56 & 0 &  0 & ⋯ & Â   & 0           &  52 & 13763,52 &  4484 & 159,61 & SIM  & 858843,48   &  0 & 0\\\\\n",
       "\t20 & 19 & 15/07/1996 &  5 & 10 & 12 & 24 & 25 & 60 & 0 &  0 & ⋯ & Â   & 0           & 159 & 5380,14  &  9250 & 92,48  & SIM  & 10506266,73 &  0 & 0\\\\\n",
       "\t21 & 20 & 22/07/1996 & 11 & 25 & 28 & 30 & 33 & 51 & 0 &  0 & ⋯ & Â   & 0           &  72 & 15486,97 &  5728 & 194,67 & SIM  & 11844340,83 &  0 & 0\\\\\n",
       "\\end{tabular}\n"
      ],
      "text/markdown": [
       "\n",
       "A data.frame: 21 × 21\n",
       "\n",
       "| <!--/--> | Concurso &lt;int&gt; | Data_Sorteio &lt;chr&gt; | X1Ã‚Âª_Dezena &lt;int&gt; | X2Ã‚Âª_Dezena &lt;int&gt; | X3Ã‚Âª_Dezena &lt;int&gt; | X4Ã‚Âª_Dezena &lt;int&gt; | X5Ã‚Âª_Dezena &lt;int&gt; | X6Ã‚Âª_Dezena &lt;int&gt; | Arrecadacao_Total &lt;chr&gt; | Ganhadores_Sena &lt;int&gt; | ⋯ ⋯ | UF &lt;chr&gt; | Rateio_Sena &lt;chr&gt; | Ganhadores_Quina &lt;int&gt; | Rateio_Quina &lt;chr&gt; | Ganhadores_Quadra &lt;int&gt; | Rateio_Quadra &lt;chr&gt; | Acumulado &lt;chr&gt; | Valor_Acumulado &lt;chr&gt; | Estimativa_PrÃƒÂªmio &lt;int&gt; | Acumulado_Mega_da_Virada &lt;chr&gt; |\n",
       "|---|---|---|---|---|---|---|---|---|---|---|---|---|---|---|---|---|---|---|---|---|---|\n",
       "| 1 |  1 | 11/03/1996 |  4 |  5 | 30 | 33 | 41 | 52 | 0 |  0 | ⋯ | Â   | 0           |  17 | 39158,92 |  2016 | 330,21 | SIM  | 1714650,23  |  0 | 0 |\n",
       "| 2 |  2 | 18/03/1996 |  9 | 37 | 39 | 41 | 43 | 49 | 0 |  1 | ⋯ | PR  | 2307162,23  |  65 | 14424,02 |  4488 | 208,91 | NÃƒO | 0           |  0 | 0 |\n",
       "| 3 |  3 | 25/03/1996 | 10 | 11 | 29 | 30 | 36 | 47 | 0 |  2 | ⋯ | RN  | 391192,51   |  62 | 10515,93 |  4261 | 153,01 | NÃƒO | 0           |  0 | 0 |\n",
       "| 4 | NA | <!----> | NA | NA | NA | NA | NA | NA | <!----> | NA | ⋯ | SP  | <!----> |  NA | <!----> |    NA | <!----> | <!----> | <!----> | NA | <!----> |\n",
       "| 5 |  4 | 01/04/1996 |  1 |  5 |  6 | 27 | 42 | 59 | 0 |  0 | ⋯ | Â   | 0           |  39 | 15322,24 |  3311 | 180,48 | SIM  | 717080,75   |  0 | 0 |\n",
       "| 6 |  5 | 08/04/1996 |  1 |  2 |  6 | 16 | 19 | 46 | 0 |  0 | ⋯ | Â   | 0           |  98 | 5318,1   |  5399 | 96,53  | SIM  | 1342488,85  |  0 | 0 |\n",
       "| 7 |  6 | 15/04/1996 |  7 | 13 | 19 | 22 | 40 | 47 | 0 |  0 | ⋯ | Â   | 0           | 109 | 7214,66  |  7147 | 110,03 | SIM  | 2286166,33  |  0 | 0 |\n",
       "| 8 |  7 | 22/04/1996 |  3 |  5 | 20 | 21 | 38 | 56 | 0 |  0 | ⋯ | Â   | 0           | 100 | 8746,05  |  5736 | 152,48 | SIM  | 3335692,28  |  0 | 0 |\n",
       "| 9 |  8 | 29/04/1996 |  4 | 17 | 37 | 38 | 47 | 53 | 0 |  0 | ⋯ | Â   | 0           |  60 | 16084,11 |  5262 | 183,4  | SIM  | 4493748,19  |  0 | 0 |\n",
       "| 10 |  9 | 06/05/1996 |  8 | 43 | 54 | 55 | 56 | 60 | 0 |  0 | ⋯ | Â   | 0           |  17 | 60043,79 |  2175 | 469,31 | SIM  | 5718641,49  |  0 | 0 |\n",
       "| 11 | 10 | 13/05/1996 |  4 | 18 | 21 | 25 | 38 | 57 | 0 |  0 | ⋯ | Â   | 0           | 251 | 6638,45  | 12590 | 132,35 | SIM  | 13334769,81 |  0 | 0 |\n",
       "| 12 | 11 | 20/05/1996 | 15 | 25 | 37 | 38 | 58 | 59 | 0 |  1 | ⋯ | RJ  | 15591365,07 | 148 | 12706,05 |  9442 | 199,16 | NÃƒO | 0           |  0 | 0 |\n",
       "| 13 | 12 | 27/05/1996 |  4 | 16 | 19 | 20 | 27 | 43 | 0 |  0 | ⋯ | Â   | 0           | 108 | 6791,17  |  6454 | 113,64 | SIM  | 880136,24   |  0 | 0 |\n",
       "| 14 | 13 | 03/06/1996 | 18 | 32 | 47 | 50 | 54 | 56 | 0 |  0 | ⋯ | Â   | 0           |  43 | 20543,98 |  2934 | 301,09 | SIM  | 1940205,35  |  0 | 0 |\n",
       "| 15 | 14 | 10/06/1996 |  2 | 16 | 23 | 27 | 47 | 53 | 0 |  0 | ⋯ | Â   | 0           |  85 | 10458,19 |  5323 | 167    | SIM  | 3006941,32  |  0 | 0 |\n",
       "| 16 | 15 | 17/06/1996 | 12 | 33 | 35 | 51 | 52 | 60 | 0 |  0 | ⋯ | Â   | 0           |  57 | 17919,89 |  3931 | 259,84 | SIM  | 4232661,35  |  0 | 0 |\n",
       "| 17 | 16 | 24/06/1996 | 20 | 32 | 34 | 49 | 58 | 60 | 0 |  0 | ⋯ | Â   | 0           |  31 | 33307,13 |  3250 | 317,7  | SIM  | 5471686,62  |  0 | 0 |\n",
       "| 18 | 17 | 01/07/1996 |  6 | 10 | 13 | 19 | 20 | 51 | 0 |  1 | ⋯ | SP  | 6789869,08  | 144 | 7628,37  |  9376 | 117,16 | NÃƒO | 0           |  0 | 0 |\n",
       "| 19 | 18 | 08/07/1996 | 23 | 27 | 36 | 37 | 42 | 56 | 0 |  0 | ⋯ | Â   | 0           |  52 | 13763,52 |  4484 | 159,61 | SIM  | 858843,48   |  0 | 0 |\n",
       "| 20 | 19 | 15/07/1996 |  5 | 10 | 12 | 24 | 25 | 60 | 0 |  0 | ⋯ | Â   | 0           | 159 | 5380,14  |  9250 | 92,48  | SIM  | 10506266,73 |  0 | 0 |\n",
       "| 21 | 20 | 22/07/1996 | 11 | 25 | 28 | 30 | 33 | 51 | 0 |  0 | ⋯ | Â   | 0           |  72 | 15486,97 |  5728 | 194,67 | SIM  | 11844340,83 |  0 | 0 |\n",
       "\n"
      ],
      "text/plain": [
       "   Concurso Data_Sorteio X1Ã‚Âª_Dezena X2Ã‚Âª_Dezena X3Ã‚Âª_Dezena\n",
       "1   1       11/03/1996    4             5            30           \n",
       "2   2       18/03/1996    9            37            39           \n",
       "3   3       25/03/1996   10            11            29           \n",
       "4  NA                    NA            NA            NA           \n",
       "5   4       01/04/1996    1             5             6           \n",
       "6   5       08/04/1996    1             2             6           \n",
       "7   6       15/04/1996    7            13            19           \n",
       "8   7       22/04/1996    3             5            20           \n",
       "9   8       29/04/1996    4            17            37           \n",
       "10  9       06/05/1996    8            43            54           \n",
       "11 10       13/05/1996    4            18            21           \n",
       "12 11       20/05/1996   15            25            37           \n",
       "13 12       27/05/1996    4            16            19           \n",
       "14 13       03/06/1996   18            32            47           \n",
       "15 14       10/06/1996    2            16            23           \n",
       "16 15       17/06/1996   12            33            35           \n",
       "17 16       24/06/1996   20            32            34           \n",
       "18 17       01/07/1996    6            10            13           \n",
       "19 18       08/07/1996   23            27            36           \n",
       "20 19       15/07/1996    5            10            12           \n",
       "21 20       22/07/1996   11            25            28           \n",
       "   X4Ã‚Âª_Dezena X5Ã‚Âª_Dezena X6Ã‚Âª_Dezena Arrecadacao_Total Ganhadores_Sena\n",
       "1  33            41            52            0                  0             \n",
       "2  41            43            49            0                  1             \n",
       "3  30            36            47            0                  2             \n",
       "4  NA            NA            NA                              NA             \n",
       "5  27            42            59            0                  0             \n",
       "6  16            19            46            0                  0             \n",
       "7  22            40            47            0                  0             \n",
       "8  21            38            56            0                  0             \n",
       "9  38            47            53            0                  0             \n",
       "10 55            56            60            0                  0             \n",
       "11 25            38            57            0                  0             \n",
       "12 38            58            59            0                  1             \n",
       "13 20            27            43            0                  0             \n",
       "14 50            54            56            0                  0             \n",
       "15 27            47            53            0                  0             \n",
       "16 51            52            60            0                  0             \n",
       "17 49            58            60            0                  0             \n",
       "18 19            20            51            0                  1             \n",
       "19 37            42            56            0                  0             \n",
       "20 24            25            60            0                  0             \n",
       "21 30            33            51            0                  0             \n",
       "   <U+22EF>        UF  Rateio_Sena Ganhadores_Quina Rateio_Quina Ganhadores_Quadra\n",
       "1  <U+22EF> Â   0            17              39158,92      2016            \n",
       "2  <U+22EF> PR  2307162,23   65              14424,02      4488            \n",
       "3  <U+22EF> RN  391192,51    62              10515,93      4261            \n",
       "4  <U+22EF> SP               NA                              NA            \n",
       "5  <U+22EF> Â   0            39              15322,24      3311            \n",
       "6  <U+22EF> Â   0            98              5318,1        5399            \n",
       "7  <U+22EF> Â   0           109              7214,66       7147            \n",
       "8  <U+22EF> Â   0           100              8746,05       5736            \n",
       "9  <U+22EF> Â   0            60              16084,11      5262            \n",
       "10 <U+22EF> Â   0            17              60043,79      2175            \n",
       "11 <U+22EF> Â   0           251              6638,45      12590            \n",
       "12 <U+22EF> RJ  15591365,07 148              12706,05      9442            \n",
       "13 <U+22EF> Â   0           108              6791,17       6454            \n",
       "14 <U+22EF> Â   0            43              20543,98      2934            \n",
       "15 <U+22EF> Â   0            85              10458,19      5323            \n",
       "16 <U+22EF> Â   0            57              17919,89      3931            \n",
       "17 <U+22EF> Â   0            31              33307,13      3250            \n",
       "18 <U+22EF> SP  6789869,08  144              7628,37       9376            \n",
       "19 <U+22EF> Â   0            52              13763,52      4484            \n",
       "20 <U+22EF> Â   0           159              5380,14       9250            \n",
       "21 <U+22EF> Â   0            72              15486,97      5728            \n",
       "   Rateio_Quadra Acumulado Valor_Acumulado Estimativa_PrÃƒÂªmio\n",
       "1  330,21        SIM       1714650,23       0                  \n",
       "2  208,91        NÃƒO      0                0                  \n",
       "3  153,01        NÃƒO      0                0                  \n",
       "4                                          NA                  \n",
       "5  180,48        SIM       717080,75        0                  \n",
       "6  96,53         SIM       1342488,85       0                  \n",
       "7  110,03        SIM       2286166,33       0                  \n",
       "8  152,48        SIM       3335692,28       0                  \n",
       "9  183,4         SIM       4493748,19       0                  \n",
       "10 469,31        SIM       5718641,49       0                  \n",
       "11 132,35        SIM       13334769,81      0                  \n",
       "12 199,16        NÃƒO      0                0                  \n",
       "13 113,64        SIM       880136,24        0                  \n",
       "14 301,09        SIM       1940205,35       0                  \n",
       "15 167           SIM       3006941,32       0                  \n",
       "16 259,84        SIM       4232661,35       0                  \n",
       "17 317,7         SIM       5471686,62       0                  \n",
       "18 117,16        NÃƒO      0                0                  \n",
       "19 159,61        SIM       858843,48        0                  \n",
       "20 92,48         SIM       10506266,73      0                  \n",
       "21 194,67        SIM       11844340,83      0                  \n",
       "   Acumulado_Mega_da_Virada\n",
       "1  0                       \n",
       "2  0                       \n",
       "3  0                       \n",
       "4                          \n",
       "5  0                       \n",
       "6  0                       \n",
       "7  0                       \n",
       "8  0                       \n",
       "9  0                       \n",
       "10 0                       \n",
       "11 0                       \n",
       "12 0                       \n",
       "13 0                       \n",
       "14 0                       \n",
       "15 0                       \n",
       "16 0                       \n",
       "17 0                       \n",
       "18 0                       \n",
       "19 0                       \n",
       "20 0                       \n",
       "21 0                       "
      ]
     },
     "metadata": {},
     "output_type": "display_data"
    }
   ],
   "source": [
    "connection$find(limit = 21)"
   ]
  },
  {
   "cell_type": "code",
   "execution_count": 33,
   "metadata": {},
   "outputs": [
    {
     "data": {
      "text/html": [],
      "text/latex": [],
      "text/markdown": [],
      "text/plain": [
       "<0 x 0 matrix>"
      ]
     },
     "metadata": {},
     "output_type": "display_data"
    }
   ],
   "source": [
    "query <- connection$find('{\"Ganhadores_Sena\":\"1\"}')"
   ]
  },
  {
   "cell_type": "code",
   "execution_count": 34,
   "metadata": {},
   "outputs": [
    {
     "ename": "ERROR",
     "evalue": "Error in `[.data.frame`(query, c(\"Rateio_Sena\")): undefined columns selected\n",
     "output_type": "error",
     "traceback": [
      "Error in `[.data.frame`(query, c(\"Rateio_Sena\")): undefined columns selected\nTraceback:\n",
      "1. query[c(\"Rateio_Sena\")]",
      "2. `[.data.frame`(query, c(\"Rateio_Sena\"))",
      "3. stop(\"undefined columns selected\")"
     ]
    }
   ],
   "source": [
    "exam_scores <- query[c(\"Rateio_Sena\")]"
   ]
  },
  {
   "cell_type": "code",
   "execution_count": 27,
   "metadata": {},
   "outputs": [
    {
     "ename": "ERROR",
     "evalue": "Error in sumary(exam_scores): não foi possível encontrar a função \"sumary\"\n",
     "output_type": "error",
     "traceback": [
      "Error in sumary(exam_scores): não foi possível encontrar a função \"sumary\"\nTraceback:\n"
     ]
    }
   ],
   "source": [
    "sumary(exam_scores)"
   ]
  },
  {
   "cell_type": "code",
   "execution_count": 45,
   "metadata": {},
   "outputs": [
    {
     "data": {
      "text/html": [
       "2032"
      ],
      "text/latex": [
       "2032"
      ],
      "text/markdown": [
       "2032"
      ],
      "text/plain": [
       "[1] 2032"
      ]
     },
     "metadata": {},
     "output_type": "display_data"
    }
   ],
   "source": [
    "#find\n",
    "connection$count()\n"
   ]
  },
  {
   "cell_type": "code",
   "execution_count": null,
   "metadata": {},
   "outputs": [],
   "source": []
  }
 ],
 "metadata": {
  "kernelspec": {
   "display_name": "R",
   "language": "R",
   "name": "ir"
  },
  "language_info": {
   "codemirror_mode": "r",
   "file_extension": ".r",
   "mimetype": "text/x-r-source",
   "name": "R",
   "pygments_lexer": "r",
   "version": "3.6.3"
  }
 },
 "nbformat": 4,
 "nbformat_minor": 4
}
