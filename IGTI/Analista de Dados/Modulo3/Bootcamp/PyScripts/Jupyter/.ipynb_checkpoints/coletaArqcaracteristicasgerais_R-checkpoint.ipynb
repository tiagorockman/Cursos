{
 "cells": [
  {
   "cell_type": "code",
   "execution_count": 1,
   "metadata": {},
   "outputs": [
    {
     "name": "stderr",
     "output_type": "stream",
     "text": [
      "Loading required package: RMariaDB\n"
     ]
    }
   ],
   "source": [
    "#importação do pacote\n",
    "\n",
    "#importa pacote RMariaDB se não foi importado\n",
    "if(!\"RMariaDB\" %in% (.packages())){require(RMariaDB)}\n",
    "\n",
    "#library(RMariaDB)"
   ]
  },
  {
   "cell_type": "code",
   "execution_count": 2,
   "metadata": {},
   "outputs": [],
   "source": [
    "#conecta ao SGBD Mysql --> banco bootcamp\n",
    "con <- dbConnect(MariaDB(), user=\"root\", password =\"igti\",\n",
    "                dbname=\"bootcamp\", host=\"localhost\", serverTimezone='UTC')"
   ]
  },
  {
   "cell_type": "code",
   "execution_count": null,
   "metadata": {},
   "outputs": [],
   "source": [
    "#Para executar um comando SQL execute:\n",
    "#dbSendQuery(nome-da-conexao, query)\n",
    "#EX: resultd <-  dbSendQuery(con, \"select * from table\")\n",
    "#    resultd\n",
    "\n",
    "#importa package\n",
    "#install.packages('readr')\n",
    "install.packages('readr')\n",
    "library(\"readr\")\n",
    "\n",
    "#lendo arquivo\n",
    "pathFolder <- 'C:/Users/jose.sousa1/Documents/Treinamentos/Cursos - Git Repository/IGTI/Modulo3/Trabalho Prático/Arquivos complementares - Módulo 3'\n",
    "fileName <- \"/caracteristicasgerais.csv\"\n",
    "datasetpath <- pathFolder\n",
    "\n",
    "file <- paste(datasetpah, fileName, sep=\",\")\n",
    "file\n",
    "\n",
    "insertdata <- read.csv()\n",
    "insertdata\n"
   ]
  },
  {
   "cell_type": "code",
   "execution_count": null,
   "metadata": {},
   "outputs": [],
   "source": [
    "#inserindo na tabela - append True pois a tabela já existe\n",
    "dWriteTable(conn, 'nome-tabela', insertdata, append=TRUE)"
   ]
  },
  {
   "cell_type": "code",
   "execution_count": 3,
   "metadata": {},
   "outputs": [
    {
     "ename": "ERROR",
     "evalue": "Error in eval(expr, envir, enclos): objeto 'db' não encontrado\n",
     "output_type": "error",
     "traceback": [
      "Error in eval(expr, envir, enclos): objeto 'db' não encontrado\nTraceback:\n"
     ]
    }
   ],
   "source": [
    "#Conulta os dados\n",
    "tabeladata <- dbReadTable(conn, \"nome-tabela\")\n",
    "tabledata"
   ]
  },
  {
   "cell_type": "code",
   "execution_count": null,
   "metadata": {},
   "outputs": [],
   "source": [
    "#desconecta do banco\n",
    "dbDisconnect(con)"
   ]
  }
 ],
 "metadata": {
  "kernelspec": {
   "display_name": "R",
   "language": "R",
   "name": "ir"
  },
  "language_info": {
   "codemirror_mode": "r",
   "file_extension": ".r",
   "mimetype": "text/x-r-source",
   "name": "R",
   "pygments_lexer": "r",
   "version": "3.6.1"
  }
 },
 "nbformat": 4,
 "nbformat_minor": 4
}
