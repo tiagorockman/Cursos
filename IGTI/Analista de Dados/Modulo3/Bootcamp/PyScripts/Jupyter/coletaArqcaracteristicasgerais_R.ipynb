{
 "cells": [
  {
   "cell_type": "code",
   "execution_count": 1,
   "metadata": {},
   "outputs": [
    {
     "name": "stderr",
     "output_type": "stream",
     "text": [
      "Loading required package: RMariaDB\n"
     ]
    }
   ],
   "source": [
    "#importação do pacote\n",
    "\n",
    "#importa pacote RMariaDB se não foi importado\n",
    "if(!\"RMariaDB\" %in% (.packages())){require(RMariaDB)}\n",
    "\n",
    "#library(RMariaDB)"
   ]
  },
  {
   "cell_type": "code",
   "execution_count": 6,
   "metadata": {},
   "outputs": [],
   "source": [
    "#conecta ao SGBD Mysql --> banco bootcamp\n",
    "con <- dbConnect(MariaDB(), user=\"root\", password =\"igti\",\n",
    "                dbname=\"bootcamp\", host=\"localhost\", serverTimezone='UTC')"
   ]
  },
  {
   "cell_type": "code",
   "execution_count": 12,
   "metadata": {},
   "outputs": [
    {
     "data": {
      "text/plain": [
       "<MariaDBResult>\n",
       "  SQL  Insert into caracteristicasgerais(idcaracteristicasGerais, dsccaracteristicasGerais)VALUES(1,'Portaria24Horas');\n",
       "  ROWS Fetched: 0 [complete]\n",
       "       Changed: 1"
      ]
     },
     "metadata": {},
     "output_type": "display_data"
    }
   ],
   "source": [
    "#Para executar um comando SQL execute:\n",
    "#dbSendQuery(nome-da-conexao, query)\n",
    "#EX: resultd <-  dbSendQuery(con, \"select * from table\")\n",
    "#    resultd\n",
    "\n",
    "query <- \"Insert into caracteristicasgerais(idcaracteristicasGerais, dsccaracteristicasGerais)VALUES(1,'Portaria24Horas');\"\n",
    "\n",
    "results <- dbSendQuery(con, query)\n",
    "results\n",
    "\n",
    "#importa package\n",
    "#install.packages('readr')\n",
    "library(\"readr\")\n"
   ]
  },
  {
   "cell_type": "code",
   "execution_count": 14,
   "metadata": {},
   "outputs": [
    {
     "name": "stderr",
     "output_type": "stream",
     "text": [
      "Warning message in result_create(conn@ptr, statement, is_statement):\n",
      "\"Cancelling previous query\""
     ]
    },
    {
     "data": {
      "text/html": [
       "<table>\n",
       "<thead><tr><th scope=col>idcaracteristicasGerais</th><th scope=col>dsccaracteristicasGerais</th></tr></thead>\n",
       "<tbody>\n",
       "\t<tr><td>1              </td><td>Portaria24Horas</td></tr>\n",
       "</tbody>\n",
       "</table>\n"
      ],
      "text/latex": [
       "\\begin{tabular}{r|ll}\n",
       " idcaracteristicasGerais & dsccaracteristicasGerais\\\\\n",
       "\\hline\n",
       "\t 1               & Portaria24Horas\\\\\n",
       "\\end{tabular}\n"
      ],
      "text/markdown": [
       "\n",
       "idcaracteristicasGerais | dsccaracteristicasGerais | \n",
       "|---|\n",
       "| 1               | Portaria24Horas | \n",
       "\n",
       "\n"
      ],
      "text/plain": [
       "  idcaracteristicasGerais dsccaracteristicasGerais\n",
       "1 1                       Portaria24Horas         "
      ]
     },
     "metadata": {},
     "output_type": "display_data"
    }
   ],
   "source": [
    "#Consulta dados\n",
    "dataInserted <- dbReadTable(con,\"caracteristicasgerais\" )\n",
    "dataInserted"
   ]
  },
  {
   "cell_type": "code",
   "execution_count": 11,
   "metadata": {},
   "outputs": [
    {
     "data": {
      "text/html": [
       "'C:/Users/jose.sousa1/Documents/Treinamentos/Cursos - Git Repository/IGTI/Modulo3/Trabalho Prático/Arquivos complementares - Módulo 3/caracteristicasgerais.csv'"
      ],
      "text/latex": [
       "'C:/Users/jose.sousa1/Documents/Treinamentos/Cursos - Git Repository/IGTI/Modulo3/Trabalho Prático/Arquivos complementares - Módulo 3/caracteristicasgerais.csv'"
      ],
      "text/markdown": [
       "'C:/Users/jose.sousa1/Documents/Treinamentos/Cursos - Git Repository/IGTI/Modulo3/Trabalho Prático/Arquivos complementares - Módulo 3/caracteristicasgerais.csv'"
      ],
      "text/plain": [
       "[1] \"C:/Users/jose.sousa1/Documents/Treinamentos/Cursos - Git Repository/IGTI/Modulo3/Trabalho Prático/Arquivos complementares - Módulo 3/caracteristicasgerais.csv\""
      ]
     },
     "metadata": {},
     "output_type": "display_data"
    },
    {
     "data": {
      "text/html": [
       "<table>\n",
       "<thead><tr><th scope=col>idcaracteristicasGerais</th><th scope=col>dsccaracteristicasGerais</th></tr></thead>\n",
       "<tbody>\n",
       "\t<tr><td> 4                 </td><td>Salão de festas    </td></tr>\n",
       "\t<tr><td> 5                 </td><td>Área gourmet       </td></tr>\n",
       "\t<tr><td> 6                 </td><td>Água individual    </td></tr>\n",
       "\t<tr><td> 7                 </td><td>Gás canalizado     </td></tr>\n",
       "\t<tr><td> 8                 </td><td>Aquecimento solar  </td></tr>\n",
       "\t<tr><td> 9                 </td><td>Vaga coberta       </td></tr>\n",
       "\t<tr><td>10                 </td><td>Vaga livre         </td></tr>\n",
       "\t<tr><td>11                 </td><td>Armários na cozinha</td></tr>\n",
       "\t<tr><td>12                 </td><td>Closet             </td></tr>\n",
       "\t<tr><td>13                 </td><td>Armários no quarto </td></tr>\n",
       "</tbody>\n",
       "</table>\n"
      ],
      "text/latex": [
       "\\begin{tabular}{r|ll}\n",
       " idcaracteristicasGerais & dsccaracteristicasGerais\\\\\n",
       "\\hline\n",
       "\t  4                  & Salão de festas    \\\\\n",
       "\t  5                  & Área gourmet       \\\\\n",
       "\t  6                  & Água individual    \\\\\n",
       "\t  7                  & Gás canalizado     \\\\\n",
       "\t  8                  & Aquecimento solar  \\\\\n",
       "\t  9                  & Vaga coberta       \\\\\n",
       "\t 10                  & Vaga livre         \\\\\n",
       "\t 11                  & Armários na cozinha\\\\\n",
       "\t 12                  & Closet             \\\\\n",
       "\t 13                  & Armários no quarto \\\\\n",
       "\\end{tabular}\n"
      ],
      "text/markdown": [
       "\n",
       "idcaracteristicasGerais | dsccaracteristicasGerais | \n",
       "|---|---|---|---|---|---|---|---|---|---|\n",
       "|  4                  | Salão de festas     | \n",
       "|  5                  | Área gourmet        | \n",
       "|  6                  | Água individual     | \n",
       "|  7                  | Gás canalizado      | \n",
       "|  8                  | Aquecimento solar   | \n",
       "|  9                  | Vaga coberta        | \n",
       "| 10                  | Vaga livre          | \n",
       "| 11                  | Armários na cozinha | \n",
       "| 12                  | Closet              | \n",
       "| 13                  | Armários no quarto  | \n",
       "\n",
       "\n"
      ],
      "text/plain": [
       "   idcaracteristicasGerais dsccaracteristicasGerais\n",
       "1   4                      Salão de festas         \n",
       "2   5                      Área gourmet            \n",
       "3   6                      Água individual         \n",
       "4   7                      Gás canalizado          \n",
       "5   8                      Aquecimento solar       \n",
       "6   9                      Vaga coberta            \n",
       "7  10                      Vaga livre              \n",
       "8  11                      Armários na cozinha     \n",
       "9  12                      Closet                  \n",
       "10 13                      Armários no quarto      "
      ]
     },
     "metadata": {},
     "output_type": "display_data"
    }
   ],
   "source": [
    "#lendo arquivo\n",
    "pathFolder <- 'C:/Users/jose.sousa1/Documents/Treinamentos/Cursos - Git Repository/IGTI/Modulo3/Trabalho Prático/Arquivos complementares - Módulo 3'\n",
    "fileName <- \"/caracteristicasgerais.csv\"\n",
    "\n",
    "file <- paste(pathFolder, fileName, sep=\"\")\n",
    "file\n",
    "\n",
    "insertdata <- read.csv(file)\n",
    "insertdata"
   ]
  },
  {
   "cell_type": "code",
   "execution_count": 17,
   "metadata": {},
   "outputs": [],
   "source": [
    "#inserindo na tabela - append True pois a tabela já existe\n",
    "dbWriteTable(con, 'caracteristicasgerais', insertdata, append=TRUE)"
   ]
  },
  {
   "cell_type": "code",
   "execution_count": 20,
   "metadata": {},
   "outputs": [
    {
     "data": {
      "text/html": [
       "<table>\n",
       "<thead><tr><th scope=col>idcaracteristicasGerais</th><th scope=col>dsccaracteristicasGerais</th></tr></thead>\n",
       "<tbody>\n",
       "\t<tr><td> 1                 </td><td>Portaria24Horas    </td></tr>\n",
       "\t<tr><td> 2                 </td><td>Elevador           </td></tr>\n",
       "\t<tr><td> 3                 </td><td>Piscina            </td></tr>\n",
       "\t<tr><td> 4                 </td><td>Salão de festas    </td></tr>\n",
       "\t<tr><td> 5                 </td><td>Área gourmet       </td></tr>\n",
       "\t<tr><td> 6                 </td><td>Água individual    </td></tr>\n",
       "\t<tr><td> 7                 </td><td>Gás canalizado     </td></tr>\n",
       "\t<tr><td> 8                 </td><td>Aquecimento solar  </td></tr>\n",
       "\t<tr><td> 9                 </td><td>Vaga coberta       </td></tr>\n",
       "\t<tr><td>10                 </td><td>Vaga livre         </td></tr>\n",
       "\t<tr><td>11                 </td><td>Armários na cozinha</td></tr>\n",
       "\t<tr><td>12                 </td><td>Closet             </td></tr>\n",
       "\t<tr><td>13                 </td><td>Armários no quarto </td></tr>\n",
       "</tbody>\n",
       "</table>\n"
      ],
      "text/latex": [
       "\\begin{tabular}{r|ll}\n",
       " idcaracteristicasGerais & dsccaracteristicasGerais\\\\\n",
       "\\hline\n",
       "\t  1                  & Portaria24Horas    \\\\\n",
       "\t  2                  & Elevador           \\\\\n",
       "\t  3                  & Piscina            \\\\\n",
       "\t  4                  & Salão de festas    \\\\\n",
       "\t  5                  & Área gourmet       \\\\\n",
       "\t  6                  & Água individual    \\\\\n",
       "\t  7                  & Gás canalizado     \\\\\n",
       "\t  8                  & Aquecimento solar  \\\\\n",
       "\t  9                  & Vaga coberta       \\\\\n",
       "\t 10                  & Vaga livre         \\\\\n",
       "\t 11                  & Armários na cozinha\\\\\n",
       "\t 12                  & Closet             \\\\\n",
       "\t 13                  & Armários no quarto \\\\\n",
       "\\end{tabular}\n"
      ],
      "text/markdown": [
       "\n",
       "idcaracteristicasGerais | dsccaracteristicasGerais | \n",
       "|---|---|---|---|---|---|---|---|---|---|---|---|---|\n",
       "|  1                  | Portaria24Horas     | \n",
       "|  2                  | Elevador            | \n",
       "|  3                  | Piscina             | \n",
       "|  4                  | Salão de festas     | \n",
       "|  5                  | Área gourmet        | \n",
       "|  6                  | Água individual     | \n",
       "|  7                  | Gás canalizado      | \n",
       "|  8                  | Aquecimento solar   | \n",
       "|  9                  | Vaga coberta        | \n",
       "| 10                  | Vaga livre          | \n",
       "| 11                  | Armários na cozinha | \n",
       "| 12                  | Closet              | \n",
       "| 13                  | Armários no quarto  | \n",
       "\n",
       "\n"
      ],
      "text/plain": [
       "   idcaracteristicasGerais dsccaracteristicasGerais\n",
       "1   1                      Portaria24Horas         \n",
       "2   2                      Elevador                \n",
       "3   3                      Piscina                 \n",
       "4   4                      Salão de festas         \n",
       "5   5                      Área gourmet            \n",
       "6   6                      Água individual         \n",
       "7   7                      Gás canalizado          \n",
       "8   8                      Aquecimento solar       \n",
       "9   9                      Vaga coberta            \n",
       "10 10                      Vaga livre              \n",
       "11 11                      Armários na cozinha     \n",
       "12 12                      Closet                  \n",
       "13 13                      Armários no quarto      "
      ]
     },
     "metadata": {},
     "output_type": "display_data"
    }
   ],
   "source": [
    "#Conulta os dados\n",
    "tabeladata <- dbReadTable(con, \"caracteristicasgerais\")\n",
    "tabeladata"
   ]
  },
  {
   "cell_type": "code",
   "execution_count": 21,
   "metadata": {},
   "outputs": [],
   "source": [
    "#desconecta do banco\n",
    "dbDisconnect(con)"
   ]
  },
  {
   "cell_type": "code",
   "execution_count": null,
   "metadata": {},
   "outputs": [],
   "source": []
  }
 ],
 "metadata": {
  "kernelspec": {
   "display_name": "R",
   "language": "R",
   "name": "ir"
  },
  "language_info": {
   "codemirror_mode": "r",
   "file_extension": ".r",
   "mimetype": "text/x-r-source",
   "name": "R",
   "pygments_lexer": "r",
   "version": "3.4.3"
  }
 },
 "nbformat": 4,
 "nbformat_minor": 4
}
