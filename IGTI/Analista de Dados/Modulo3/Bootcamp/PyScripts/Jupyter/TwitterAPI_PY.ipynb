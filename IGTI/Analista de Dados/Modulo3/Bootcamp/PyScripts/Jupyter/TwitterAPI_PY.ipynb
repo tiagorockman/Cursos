{
 "cells": [
  {
   "cell_type": "markdown",
   "metadata": {},
   "source": [
    "# Coletando informações e realizando análises"
   ]
  },
  {
   "cell_type": "code",
   "execution_count": 1,
   "metadata": {},
   "outputs": [],
   "source": [
    "#importa biblioteca\n",
    "import tweepy"
   ]
  },
  {
   "cell_type": "code",
   "execution_count": null,
   "metadata": {},
   "outputs": [],
   "source": [
    "#autenticacao\n",
    "consumer_key = \"w14sE6WOPocTI0ZCmrXMoXLK2\"\n",
    "consumer_secret = \"IChDWYpSXRr5HFGxFKtoSUaEysiiY3LIIKVDrR4twEpk1QSZ9Y\"\n",
    "access_token = \"1574569164-EQGkgTBJhCIRwWPUWjCGZK7pkwV8P6ZKwDz1fSA\"\n",
    "access_token_secret = \"nrppar8dsdmQT1fFcGvYgbeBHu9JvcjIZzjPEpYOuzky8\"\n",
    "\n",
    "auth = tweepy.OAuthHandler(consumer_key, consumer_secret)\n",
    "auth.set_access_token(access_token, access_token_secret)\n",
    "api = tweepy.API(auth)"
   ]
  },
  {
   "cell_type": "code",
   "execution_count": 3,
   "metadata": {},
   "outputs": [
    {
     "name": "stdout",
     "output_type": "stream",
     "text": [
      "Ótima notícia a aprovação do marco do saneamento no Senado. A esquerda jurássica, porém, não quer que 100 milhões t… https://t.co/DQRnwvvCYY\n",
      "ATENÇÃO: O MP Pró-Sociedade (@m_ppro) DENUNCIOU o @STF_oficial na Comissão Interamericana de Direitos Humanos e ped… https://t.co/0ogwWM9A6X\n",
      "RT @lasaroccunha: @dyeghovpalves13 @Atletico Gel não, faço publicidade de camisa e Estádio ...rs\n",
      "Você quer conteúdos novos TODOS OS DIAS, ao vivo e ON DEMAND, 24 horas por dia? Baixe agora o #Panflix! A TV da Jov… https://t.co/xt7S2zlgBG\n",
      "Advogada que trabalhou com Wassef confirma estada de Queiroz em Atibaia e visitas de sua mulher, atualmente foragida https://t.co/5fQ3RuE1L0\n",
      "Está surgindo uma união nacional em torno dos Valores Conservadores, e nosso gabinete e meu mandato estarão nessa j… https://t.co/udIkpXZgIX\n",
      "NOVAMENTE PROTOCOLEI O IMPEACHMENT CONTRA DORIA!\n",
      "Ministério Público de Contas detecta que renúncia fiscal de bilhõe… https://t.co/CRpak5756a\n",
      "RT @peraltafel: Parece que eu to terminado um namoro https://t.co/F5ZDLQcNCB\n",
      "RT @Falagalo13: AO VIVO \n",
      "\n",
      "9️⃣👀 Galo analisa seis nomes para o ataque\n",
      "\n",
      "🤝💰 Salários de abril pagos\n",
      "\n",
      "💰⏪ Goiás recebe os 4 milhões da venda do…\n",
      "Porque que a tl atualiza do nada véi?! Perco uns tweets mó bons\n",
      "O hate nos comentários é maravilhoso https://t.co/VL5ukwAOHi\n",
      "Who will rise as flyweight champion? 🏆 #UFCFightIsland1\n",
      "\n",
      "#InAbuDhabi @VisitAbuDhabi https://t.co/ajxac1VHd0\n",
      "Pres. Obama destroyed the lobster and fishing industry in Maine. Now it’s back, bigger and better than anyone ever… https://t.co/ZINZke3ZCy\n",
      "O Desgoverno de Bolsonaro, Custa Caro ao Brasil| Live https://t.co/4cs0suZOID\n",
      "“I’ve always been the person that has enjoyed melting basketball and activism.” 💪\n",
      "\n",
      "@nyliberty guard @Layshiac joins… https://t.co/BtMV1LXD65\n",
      "Agora à noite,este trio nos premiou com “Cabecinha no Ombro”, de Paulo Alves Borges, consagrado pela interpretação… https://t.co/56ekUliby7\n",
      "‘Invasão Zumbi 2’ ganha trailer com sobreviventes vivendo no caos.\n",
      "\n",
      "https://t.co/6lBZFy763N https://t.co/z9C0HfWqmJ\n",
      "E pensar que isso NÃO ERA PERMITIDO... \n",
      "https://t.co/tGzUz1BOY6\n",
      "“PUTA QUE PARIU, Dra VERA” ~ Tribunal Superior do Trabalho, Brasil. https://t.co/juLn4xOxMa\n"
     ]
    }
   ],
   "source": [
    "## store api keys and get my tweets\n",
    "public_tweets = api.home_timeline()\n",
    "\n",
    "for mytweet in public_tweets:\n",
    "    print(mytweet.text)"
   ]
  },
  {
   "cell_type": "code",
   "execution_count": 4,
   "metadata": {},
   "outputs": [],
   "source": [
    "#define que palavra deseja pesquisar no Twitter\n",
    "#nessa keyword pode-se além de palavras buscar hashtags também\n",
    "keyword = ('covid OR covid-19 OR corona OR coronavirus OR OMS OR cloroquina')"
   ]
  },
  {
   "cell_type": "code",
   "execution_count": null,
   "metadata": {},
   "outputs": [],
   "source": []
  },
  {
   "cell_type": "code",
   "execution_count": 6,
   "metadata": {},
   "outputs": [],
   "source": [
    "#faz a busca por palavra chave\n",
    "#result_type --> mixed (default), recent, popular\n",
    "#tweets --> variável uqe irá armazenar todos os Tweets com a palavra escolhida na função search da API\n",
    "\n",
    "tweets = api.search(q=keyword, count=100, result_type='mixed')\n",
    "\n",
    "#tweets = token.search(q=keyword, count=10, result_type='mixed', tweet_mode='extended', Lang='pt') #modo texto completo"
   ]
  },
  {
   "cell_type": "code",
   "execution_count": 7,
   "metadata": {},
   "outputs": [
    {
     "name": "stdout",
     "output_type": "stream",
     "text": [
      "Total de tweeets coletados 100.\n"
     ]
    }
   ],
   "source": [
    "#Para verificar a quantidade de tweets coletado use a função \"len()\"\n",
    "print(\"Total de tweeets coletados %s.\" %(len(tweets)))"
   ]
  },
  {
   "cell_type": "code",
   "execution_count": 8,
   "metadata": {},
   "outputs": [
    {
     "name": "stdout",
     "output_type": "stream",
     "text": [
      "Usuário: {'JasmynBeKnowing'} \n",
      "  Tweet: {'This woman on the news just said, imagine if there was a medication that reduced your chances of getting COVID by 5… https://t.co/A4WfncIX9G'}\n",
      "Usuário: {'AndrewYang'} \n",
      "  Tweet: {'Trump calling COVID-19 the “Kung Flu” is stupid, racist and part of the reason he is losing this election in increa… https://t.co/2vDh2psPBb'}\n",
      "Usuário: {'CNBCnow'} \n",
      "  Tweet: {'The Trump admin. plans to end federal funding and support for coronavirus testing sites at the end of this month,… https://t.co/SlXjay1M3f'}\n",
      "Usuário: {'NoWackyScience'} \n",
      "  Tweet: {'RT @sangerkatz: Covid tests in Austin are backlogged for days because results are being sent via fax, then typed into a computer, before pe…'}\n",
      "Usuário: {'JudyLala2013'} \n",
      "  Tweet: {'RT @CNN: Dr. Mike Ryan, executive director of the World Health Organization’s health emergencies program, said nobody can wave a magic wand…'}\n",
      "Usuário: {'RFazoo'} \n",
      "  Tweet: {'RT @NathanLerner: How many Americans killed by COVID-19 would still be alive today if Trump hadn’t politicized wearing a mask?'}\n",
      "Usuário: {'Telemedellin'} \n",
      "  Tweet: {'#NoticiasTM Tras la reapertura económica en la ciudad, la administración municipal se ha preparado para manejar nue… https://t.co/LHdMQpnQ0Z'}\n",
      "Usuário: {'MIAYRO'} \n",
      "  Tweet: {'RT @JNarcy: Mi amigo Rafa vio morir a su mamá de COVID por videollamada porque una enfermera del hospital se sensibilizó y lo permitió. Una…'}\n",
      "Usuário: {'coogubet'} \n",
      "  Tweet: {\"RT @MeidasTouch: Trump wants to hide these numbers. He wants to act like the worst of COVID-19 is behind us. Don't let him.\\n\\n#TrumpKillsUS…\"}\n",
      "Usuário: {'Sawyer1313'} \n",
      "  Tweet: {'RT @NathanLerner: How many Americans killed by COVID-19 would still be alive today if Trump hadn’t politicized wearing a mask?'}\n",
      "Usuário: {'gjdalia'} \n",
      "  Tweet: {'RT @AdamHimmelsbach: Disney workers are petitioning asking Disney World not to reopen to the public in July. \\nToday Orange County, Fla., ha…'}\n",
      "Usuário: {'leonides67'} \n",
      "  Tweet: {'RT @VPITV: #Mundo | Brasil registró en 24 horas más de 42.700 contagios y 1.185 decesos por #coronavirus https://t.co/5Wj3vHdJJj https://t.…'}\n",
      "Usuário: {'Diario_Victoria'} \n",
      "  Tweet: {'Staff de empleados de Disney World, está solicitando el no volver a sus labores, dado que los casos de contagios po… https://t.co/0BigeIGYEC'}\n",
      "Usuário: {'cassthefras'} \n",
      "  Tweet: {'RT @CNN: Wearing a face mask in public to limit the spread of the deadly coronavirus should not be a political issue, according to the nati…'}\n",
      "Usuário: {'JONATASBOMBEIRO'} \n",
      "  Tweet: {'RT @Rconstantino: Descobrimos que o vírus chinês só gosta de aglomeração de direita, mas evita de esquerda! Ou, o que é um pouco mais prová…'}\n",
      "Usuário: {'NJRUA'} \n",
      "  Tweet: {'RT @deedeeindetroit: @ScottHech @TalkTroubled I have spoken to someone who worked in the care system and knew this kid. He had asthma and c…'}\n",
      "Usuário: {'TessieLedesma'} \n",
      "  Tweet: {'RT @itss___karen: So y’all believe in Herbalife but not in Covid ... \\n\\nSorrryyy had to say it'}\n",
      "Usuário: {'sikalicious1'} \n",
      "  Tweet: {\"RT @KamalaHarris: Just because you get rid of testing doesn't mean coronavirus is gone. Cases are still spiking. \\n\\nTrump has abandoned the…\"}\n",
      "Usuário: {'federicoalves'} \n",
      "  Tweet: {'RT @cocando: Coronavirus deja sin remesas a los venezolanos\\n\\nhttps://t.co/LA2eNu18HM'}\n",
      "Usuário: {'PointCounterpt'} \n",
      "  Tweet: {'RT @DKThomp: June 24: 38,672 positive COVID cases.\\n\\nThat is a record high for the United States. https://t.co/tIj4blQ5OV'}\n",
      "Usuário: {'Real_MrBill'} \n",
      "  Tweet: {'RT @NathanLerner: How many Americans killed by COVID-19 would still be alive today if Trump hadn’t politicized wearing a mask?'}\n",
      "Usuário: {'princessuglina'} \n",
      "  Tweet: {'RT @NathanLerner: How many Americans killed by COVID-19 would still be alive today if Trump hadn’t politicized wearing a mask?'}\n",
      "Usuário: {'bcarl1970'} \n",
      "  Tweet: {'RT @aginnt: 3/ Keep going?\\n\\nhttps://t.co/GycodmISKE\\n\\nhttps://t.co/C5lrKgedP6\\n\\nhttps://t.co/bWV1mCFQnW\\n\\nhttps://t.co/IcI88DANts\\n\\nhttps://t.c…'}\n",
      "Usuário: {'mathiasbong'} \n",
      "  Tweet: {'@justbehonestk @CarmilatiRenato @RafaelGreca_ Luíza, até o momento tu não teve uma resposta com base em ciência. Se… https://t.co/MG41euW1D3'}\n",
      "Usuário: {'kimyox'} \n",
      "  Tweet: {\"RT @DanRather: The coronavirus is at record numbers. It's raging out of control. Where the hell is the federal government? Where the hell i…\"}\n",
      "Usuário: {'1SGPayneCE'} \n",
      "  Tweet: {\"RT @NASAExoplanets: We know of 4,179 planets – and the one we’re on is the most important🌎\\nWhen it comes to fighting COVID-19, we're in thi…\"}\n",
      "Usuário: {'TheFinancialDi2'} \n",
      "  Tweet: {'As European Union nations continue to ease coronavirus restrictions, EU member states are discussing barring visito… https://t.co/J90WXHpoV8'}\n",
      "Usuário: {'wyobetsy'} \n",
      "  Tweet: {'RT @brianschatz: 1) Millions of people did not march on the street for a blue ribbon commission. 2) The United States of America won the Ci…'}\n",
      "Usuário: {'edelcasar'} \n",
      "  Tweet: {'RT @PoliciaDeMiami: El director del IMSS @zoerobledo nunca tuvo coronavirus.\\n\\nAbro hilo.'}\n",
      "Usuário: {'Aaroncerecedes'} \n",
      "  Tweet: {'RT @JasmynBeKnowing: This woman on the news just said, imagine if there was a medication that reduced your chances of getting COVID by 5x.…'}\n",
      "Usuário: {'MilesQBlack1'} \n",
      "  Tweet: {'@realDonaldTrump No doubt...pathological liar, corrupt criminal #donaldtrump failed to act on information from Chin… https://t.co/RznVufue2Z'}\n",
      "Usuário: {'GobiernoEdoChih'} \n",
      "  Tweet: {'Entérate de la información oficial sobre el #Coronavirus #COVID19 🦠en el Estado de Chihuahua a través de la Confere… https://t.co/nJGAv1YJrX'}\n",
      "Usuário: {'AngelVillacr'} \n",
      "  Tweet: {'RT @LoroHomero: Hoy se incorpora  a @saludquito el Dr. Paúl Carrasco, Emergenciólogo y Director del posgrado de Emergenciología de la Unive…'}\n",
      "Usuário: {'SuzyFlamora'} \n",
      "  Tweet: {'RT @jennybethm: Dr. Mark McDonald child psychiatrist➡️“The risk of death in children from flu, from seasonal flu, is 20 to 30 times higher…'}\n",
      "Usuário: {'aluiziopires7'} \n",
      "  Tweet: {'RT @DouglasGarcia: Minha mãe, tia, vó e meu vô foram diagnosticados com COVID-19. Foram medicados com hidroxicloroquina já nos sintomas ini…'}\n",
      "Usuário: {'alexcorona_1'} \n",
      "  Tweet: {'RT @PoliciaDeMiami: El director del IMSS @zoerobledo nunca tuvo coronavirus.\\n\\nAbro hilo.'}\n",
      "Usuário: {'heleen_n'} \n",
      "  Tweet: {'RT @carbonvivo: Covid + Lluvia + polvo del Sahara + atardecer https://t.co/iGJl3znoVs'}\n",
      "Usuário: {'char3mm'} \n",
      "  Tweet: {'RT @ordurebizare69: Así les hacen la prueba del coronavirus, por si quieren seguir saliendo  https://t.co/2GO6j97Eq2'}\n",
      "Usuário: {'MicahRemax'} \n",
      "  Tweet: {'Now, in the age of the coronavirus, curb appeal is more vital than ever. Here are six tips for attracting potential… https://t.co/qZFTElqZuv'}\n",
      "Usuário: {'WHOLEINTHEHEAD'} \n",
      "  Tweet: {'RT @amvetsupport: trump continues to lie and expose thousands of people to Covid. For what?  His damn re-election. He and his surrogates (H…'}\n",
      "Usuário: {'TN5Telenoticias'} \n",
      "  Tweet: {'La OMS aprobó una nueva clasificación del dengue en la que se destacan los signos de alarma para tratar a los pacie… https://t.co/fvXGQ7BQc0'}\n",
      "Usuário: {'Down4aManifesto'} \n",
      "  Tweet: {'RT @AndrewYang: Trump calling COVID-19 the “Kung Flu” is stupid, racist and part of the reason he is losing this election in increasingly h…'}\n",
      "Usuário: {'The_QTN08'} \n",
      "  Tweet: {'RT @MHafeez22: After Tested positive COVID-19 acc to PCB testing Report yesterday,as 2nd opinion &amp; for satisfaction I personally went to Te…'}\n",
      "Usuário: {'BlueAce1878'} \n",
      "  Tweet: {\"RT @DanRather: The coronavirus is at record numbers. It's raging out of control. Where the hell is the federal government? Where the hell i…\"}\n",
      "Usuário: {'catsgrandma'} \n",
      "  Tweet: {'RT @NYGovCuomo: I am announcing with @GovMurphy and @GovNedLamont\\xa0a joint travel advisory. All individuals traveling from states with signi…'}\n",
      "Usuário: {'MejoMelissa'} \n",
      "  Tweet: {\"RT @RonaldKlain: COVID denial will not stop COVID.  The virus doesn't care if you count cases or not.\"}\n",
      "Usuário: {'LiliBeggiato'} \n",
      "  Tweet: {'RT @jornalnacional: Na semana passada, os técnicos disseram que a doença estaria se aproximando de uma situação de estabilidade, o chamado…'}\n",
      "Usuário: {'lemgauna'} \n",
      "  Tweet: {'RT @auri_nellys_10: Estoy devastada. Hoy realicé una segunda prueba Covid y he vuelto a dar positivo. La doctora dice que mis pulmones no e…'}\n",
      "Usuário: {'renote1'} \n",
      "  Tweet: {'RT @LaChiquisYareli: Estarías de acuerdo que se recorten 200 diputados, 32 senadores plurinominales y el 50% de su inflado presupuesto al @…'}\n",
      "Usuário: {'JOSECRUZM999'} \n",
      "  Tweet: {'RT @FCristales: 177 casos de COVID confirmados pars el día de hoy. Preocupante.\\n\\nY ni la AL ni la Sala de lo constitucional van a permitir…'}\n",
      "Usuário: {'AbhishekChakr99'} \n",
      "  Tweet: {\"Meeting your friends after corona crisis.... If your friends say.. You're the same as before corona...  \\nThen you d… https://t.co/rl8ffBD7KT\"}\n",
      "Usuário: {'gbz92'} \n",
      "  Tweet: {'RT @SSZ_Zac: #InfoSalud\\n\\n#QuédateEnCasa \\n\\nActualización del reporte sobre Coronavirus (COVID-19) en Zacatecas, y Comunicado Oficial:\\n\\nToda…'}\n",
      "Usuário: {'CarolineAbdall4'} \n",
      "  Tweet: {'Hoje estava a cara da Corona bem gelada 😋'}\n",
      "Usuário: {'onemancando'} \n",
      "  Tweet: {'RT @Origina90s: น้องเขิลไม่ให้ถ่ายหน้า แต่ถ่ายหีพอได้\\n................................................\\nอันเนื่องมาเกิดโรคระบาด(Covid-19)\\nทา…'}\n",
      "Usuário: {'4originalintent'} \n",
      "  Tweet: {'RT @seanmdav: Oregon County Issues Coronavirus Mask Mandate, But Only For White People https://t.co/UKGclhA8M0'}\n",
      "Usuário: {'VicGovDJPR'} \n",
      "  Tweet: {'The #VictorianConnection continues to profile some of the Victorians who have lost – and found – new jobs during co… https://t.co/kD16PYUGX6'}\n",
      "Usuário: {'MrRaulJenkins'} \n",
      "  Tweet: {'RT @thegoodgodabove: MOTION TO RENAME COVID AS TRUMP FLU'}\n",
      "Usuário: {'Patrick29778469'} \n",
      "  Tweet: {'RT @mmpadellan: Dozens of Secret Service agents had to self-quarantine after the Tulsa rally.\\n\\nSeriously...how does he NOT have COVID-19?\\n#…'}\n",
      "Usuário: {'glrglr13'} \n",
      "  Tweet: {\"RT @SMurray1000: I know I keep asking this but does @GOP really think they're going to win elections if their negligence continues to allow…\"}\n",
      "Usuário: {'Anticor64282648'} \n",
      "  Tweet: {'RT @LoroHomero: Hoy se incorpora  a @saludquito el Dr. Paúl Carrasco, Emergenciólogo y Director del posgrado de Emergenciología de la Unive…'}\n",
      "Usuário: {'aldbernardi'} \n",
      "  Tweet: {'RT @KarinGomesKG: la ola de embarazos que hay me preocupa más que el covid-19 así que cuídense chiquis y bueno, a los futuros papis éxitos✨'}\n",
      "Usuário: {'ComradeCalifor1'} \n",
      "  Tweet: {'“Arizona &amp; Texas have rapidly spiking new case of #Covid_19.”\\n...I’m at a Truck Stop in #Arizona right now, and thi… https://t.co/Ea3dxogysm'}\n",
      "Usuário: {'enriqearchi'} \n",
      "  Tweet: {'RT @covidmx: Revisa la situación actualizada de la epidemia en tu entidad en nuestro sitio https://t.co/C85Zec8r63 . \\nHoy* la @SSalud_mx re…'}\n",
      "Usuário: {'1Ghamafdel'} \n",
      "  Tweet: {'RT @doctormacias: En México la pandemia de coronavirus sigue su paso avasallador. Debemos pasar a la ofensiva:\\n1. TODOS usar mascarilla en…'}\n",
      "Usuário: {'jennifervork'} \n",
      "  Tweet: {\"RT @cmclymer: As a delegate representing the District of Columbia, I'm incredibly proud of the DNC for prioritizing the safety of all from…\"}\n",
      "Usuário: {'paidamaitee'} \n",
      "  Tweet: {'RT @CasalFalando: eu fazendo minha mão de máscara pra ela se proteger do corona... Pq quem ama cuida https://t.co/kwFcZND0Mg'}\n",
      "Usuário: {'karen24453309'} \n",
      "  Tweet: {'RT @drdavidsamadi: Dr. Fauci says a COVID-19 vaccine will be in America very soon.\\n\\nIf the vaccine arrives, will you be taking it?\\n\\nWhy or…'}\n",
      "Usuário: {'acoronet440c'} \n",
      "  Tweet: {'RT @NathanLerner: How many Americans killed by COVID-19 would still be alive today if Trump hadn’t politicized wearing a mask?'}\n",
      "Usuário: {'Thayy_31'} \n",
      "  Tweet: {'RT @CasalFalando: eu fazendo minha mão de máscara pra ela se proteger do corona... Pq quem ama cuida https://t.co/kwFcZND0Mg'}\n",
      "Usuário: {'PelonNsdca'} \n",
      "  Tweet: {\"RT @kylegriffin1: Breaking via WaPo: Dozens of Secret Service officers and agents on site for Trump's Tulsa rally have been ordered to self…\"}\n",
      "Usuário: {'runluz'} \n",
      "  Tweet: {'RT @DanielBlancoPaz: Historia de un hospital colpasado por el Coronavirus en Venezuela. Solo hay ocho camas para cien pacientes. Quienes no…'}\n",
      "Usuário: {'slimkhezri'} \n",
      "  Tweet: {'#NotOverYet #StayHome  New York, New Jersey and Connecticut to quarantine visitors from coronavirus hot spots… https://t.co/896K8Eemwc'}\n",
      "Usuário: {'NETTA76716520'} \n",
      "  Tweet: {\"RT @MeidasTouch: Trump wants to hide these numbers. He wants to act like the worst of COVID-19 is behind us. Don't let him.\\n\\n#TrumpKillsUS…\"}\n",
      "Usuário: {'LipeML'} \n",
      "  Tweet: {'RT @pierrelucena: Quem quiser acompanhar o Dashboard com os dados da Covid-19 no Recife, o endereço definitivo é este. Lá você pode ver tod…'}\n",
      "Usuário: {'rafa_garz'} \n",
      "  Tweet: {'@izanf To com muita saudadeee, corona vai embora preciso ir visitar minha amiga'}\n",
      "Usuário: {'silveriobianca1'} \n",
      "  Tweet: {'A verdade é que enquanto o vírus tá lá, contaminando só os conhecidos, matando só quem vc não conhece, vc não sente… https://t.co/IVy7wW3jVv'}\n",
      "Usuário: {'dlmetcalf'} \n",
      "  Tweet: {'A whole flight mostly full of bioterrorists here.\\n\\nGood chance of hundreds of billions of dollars more economic dam… https://t.co/VNL584PmX6'}\n",
      "Usuário: {'Ezra_Nola'} \n",
      "  Tweet: {'RT @TroyKinsey: \"They need to figure out where they want to be in two or three weeks and start implementing policies to address that,\" Dr.…'}\n",
      "Usuário: {'henrymiotta'} \n",
      "  Tweet: {'RT @maryorinmendez: Delcy Rodríguez no admitió hoy casos de coronavirus en Zulia donde está el foco más grande de Venezuela y se han produc…'}\n",
      "Usuário: {'LetsTalkBucketz'} \n",
      "  Tweet: {'RT @ShamsCharania: Kings guard Buddy Hield has tested positive for coronavirus, sources tell me and @sam_amick.'}\n",
      "Usuário: {'bryceamoyer'} \n",
      "  Tweet: {'RT @ASlavitt: BREAKING: US hits single day high of reported Coronavirus cases.\\n\\nFederal government silent.'}\n",
      "Usuário: {'bozzione'} \n",
      "  Tweet: {\"RT @SethAbramson: I wonder if America realizes that by no means is it off the roster of possibilities that Trump's rhetoric, mismanagement,…\"}\n",
      "Usuário: {'MayelacabreraM'} \n",
      "  Tweet: {'RT @CarmenSalinasLo: Hay cada pendeja y pendejo que todavía aseguran que el pinche coronavirus no existe, que es cosa del gobierno... no ma…'}\n",
      "Usuário: {'KsopMarunda'} \n",
      "  Tweet: {'#kawanLaut @djplkemenhub151 @kemenhub151 Selamat hari pelaut dunia, 25 Juni 2020. Terima kasih kepada semua pelaut… https://t.co/su0Z9gUpk0'}\n",
      "Usuário: {'OhioBATs'} \n",
      "  Tweet: {\"RT @BadassTeachersA: We've been asking for small class sizes for years. Too bad it might take a pandemic to make it happen.  #Covid19 #Coro…\"}\n",
      "Usuário: {'_frogirl'} \n",
      "  Tweet: {'RT @CarlesK10: Holaa!! Necesito de su gran ayuda, esta Sra que esta en la imagen de abajo es amiga de mi mamá y esta necesitando con URGENC…'}\n",
      "Usuário: {'MarineInsight'} \n",
      "  Tweet: {\"#Coronavirus: India Extends Validity Of Seafarers' Certificates Till December 2021 https://t.co/88kZ1fgFgL… https://t.co/U2UkP24smq\"}\n",
      "Usuário: {'ThiagoS41991520'} \n",
      "  Tweet: {'RT @AltamiroAlvesd2: #UNIDOSPELAOPTOMETRIA O Brasil necessita. Existente em 176 países no mundo, segundo a Organização Mundial da Saúde (OM…'}\n",
      "Usuário: {'BoboRocks56'} \n",
      "  Tweet: {\"RT @DanRather: The coronavirus is at record numbers. It's raging out of control. Where the hell is the federal government? Where the hell i…\"}\n",
      "Usuário: {'MickTheOcho'} \n",
      "  Tweet: {'RT @Mike_Hixenbaugh: Dear major American news outlets: As Houston’s COVID crisis deepens in the coming days, you will no doubt be confronte…'}\n",
      "Usuário: {'VictorZ94157234'} \n",
      "  Tweet: {'RT @MedicosUnidosVe: Último reporte de Estado Zulia, informan del fallecimiento del colega Dr. Manuel Romero, Ginecoobstetra por COVID-19.…'}\n",
      "Usuário: {'vaalpadillaa'} \n",
      "  Tweet: {'RT @MarianaVAGG: Si por COVID no hay feria del alfenique este año me mato.'}\n",
      "Usuário: {'Designhilldh'} \n",
      "  Tweet: {'14 Common #Coronavirus Myths Busted https://t.co/PSXBTwT3LH'}\n",
      "Usuário: {'sunnyjim4'} \n",
      "  Tweet: {'@marcorubio Thousands of your employers are getting covid every day and likely thousands will die. Have you talked… https://t.co/1YShKhuPwJ'}\n",
      "Usuário: {'Babsblw'} \n",
      "  Tweet: {'RT @robshirkey: Doris Grinspun, President of Registered Nurses Association of Ontario on mandatory masking:\\n\\n\"What are we waiting for? It i…'}\n",
      "Usuário: {'nettie417'} \n",
      "  Tweet: {'RT @CNN: People shouldn’t count on getting a hiatus from Covid-19 in the summer months to prepare for fall, said Michael Osterholm, directo…'}\n",
      "Usuário: {'_illwill___'} \n",
      "  Tweet: {\"RT @shomaristone: Protests haven't led to COVID-19 spikes, study finds: @NBCNews \\nhttps://t.co/VJEQuvdaxs\"}\n",
      "Usuário: {'CoronaUpdateBot'} \n",
      "  Tweet: {'RT @DailyCaller: Trump Campaign Sues Left-Wing Super PAC For Creating Ad Suggesting POTUS Called COVID A ‘Hoax’ https://t.co/E7GkCECmR2'}\n",
      "Usuário: {'Luminya1'} \n",
      "  Tweet: {'RT @Aaron_Derfel: 1) In a stunning lack of transparency, Quebec has announced it will no longer make public each day its #COVID numbers on…'}\n",
      "Usuário: {'RgmAlvarez'} \n",
      "  Tweet: {'@fdbedout Son tan precisas las instrucciones del gobierno que el indice de muertes por coronavirus vs infectados ge… https://t.co/nCJyosObfD'}\n"
     ]
    }
   ],
   "source": [
    "#imprime informações\n",
    "for tweet in tweets:\n",
    "    print(\"Usuário: %s \"% {tweet.user.screen_name})\n",
    "    print(\"  Tweet: %s\"% {tweet.text})\n",
    "    #print(\"  Tweet: %s\" % {tweet.full_Text}) #no caso de usar texto completo"
   ]
  },
  {
   "cell_type": "code",
   "execution_count": 9,
   "metadata": {},
   "outputs": [],
   "source": [
    "#Analise de polaridade\n",
    "#importa pacotes\n",
    "from textblob import TextBlob as tb\n",
    "import numpy as np"
   ]
  },
  {
   "cell_type": "code",
   "execution_count": 10,
   "metadata": {},
   "outputs": [],
   "source": [
    "#variável que irá armazenar as polaridades\n",
    "analysis = None"
   ]
  },
  {
   "cell_type": "code",
   "execution_count": 11,
   "metadata": {},
   "outputs": [],
   "source": [
    "#lista vazia para armazenar scores\n",
    "tweets_score = []"
   ]
  },
  {
   "cell_type": "code",
   "execution_count": 13,
   "metadata": {},
   "outputs": [
    {
     "name": "stdout",
     "output_type": "stream",
     "text": [
      "** This woman on the news just said, imagine if there was a medication that reduced your chances of getting COVID by 5… https://t.co/A4WfncIX9G\n",
      "** Trump calling COVID-19 the “Kung Flu” is stupid, racist and part of the reason he is losing this election in increa… https://t.co/2vDh2psPBb\n",
      "** The Trump admin. plans to end federal funding and support for coronavirus testing sites at the end of this month,… https://t.co/SlXjay1M3f\n",
      "** RT @sangerkatz: Covid tests in Austin are backlogged for days because results are being sent via fax, then typed into a computer, before pe…\n",
      "** RT @CNN: Dr. Mike Ryan, executive director of the World Health Organization’s health emergencies program, said nobody can wave a magic wand…\n",
      "** RT @NathanLerner: How many Americans killed by COVID-19 would still be alive today if Trump hadn’t politicized wearing a mask?\n",
      "** #NoticiasTM Tras la reapertura económica en la ciudad, la administración municipal se ha preparado para manejar nue… https://t.co/LHdMQpnQ0Z\n",
      "** RT @JNarcy: Mi amigo Rafa vio morir a su mamá de COVID por videollamada porque una enfermera del hospital se sensibilizó y lo permitió. Una…\n",
      "** RT @MeidasTouch: Trump wants to hide these numbers. He wants to act like the worst of COVID-19 is behind us. Don't let him.\n",
      "\n",
      "#TrumpKillsUS…\n",
      "** RT @NathanLerner: How many Americans killed by COVID-19 would still be alive today if Trump hadn’t politicized wearing a mask?\n",
      "** RT @AdamHimmelsbach: Disney workers are petitioning asking Disney World not to reopen to the public in July. \n",
      "Today Orange County, Fla., ha…\n",
      "** RT @VPITV: #Mundo | Brasil registró en 24 horas más de 42.700 contagios y 1.185 decesos por #coronavirus https://t.co/5Wj3vHdJJj https://t.…\n",
      "** Staff de empleados de Disney World, está solicitando el no volver a sus labores, dado que los casos de contagios po… https://t.co/0BigeIGYEC\n",
      "** RT @CNN: Wearing a face mask in public to limit the spread of the deadly coronavirus should not be a political issue, according to the nati…\n",
      "** RT @Rconstantino: Descobrimos que o vírus chinês só gosta de aglomeração de direita, mas evita de esquerda! Ou, o que é um pouco mais prová…\n",
      "** RT @deedeeindetroit: @ScottHech @TalkTroubled I have spoken to someone who worked in the care system and knew this kid. He had asthma and c…\n",
      "** RT @itss___karen: So y’all believe in Herbalife but not in Covid ... \n",
      "\n",
      "Sorrryyy had to say it\n",
      "** RT @KamalaHarris: Just because you get rid of testing doesn't mean coronavirus is gone. Cases are still spiking. \n",
      "\n",
      "Trump has abandoned the…\n",
      "** RT @cocando: Coronavirus deja sin remesas a los venezolanos\n",
      "\n",
      "https://t.co/LA2eNu18HM\n",
      "** RT @DKThomp: June 24: 38,672 positive COVID cases.\n",
      "\n",
      "That is a record high for the United States. https://t.co/tIj4blQ5OV\n",
      "** RT @NathanLerner: How many Americans killed by COVID-19 would still be alive today if Trump hadn’t politicized wearing a mask?\n",
      "** RT @NathanLerner: How many Americans killed by COVID-19 would still be alive today if Trump hadn’t politicized wearing a mask?\n",
      "** RT @aginnt: 3/ Keep going?\n",
      "\n",
      "https://t.co/GycodmISKE\n",
      "\n",
      "https://t.co/C5lrKgedP6\n",
      "\n",
      "https://t.co/bWV1mCFQnW\n",
      "\n",
      "https://t.co/IcI88DANts\n",
      "\n",
      "https://t.c…\n",
      "** @justbehonestk @CarmilatiRenato @RafaelGreca_ Luíza, até o momento tu não teve uma resposta com base em ciência. Se… https://t.co/MG41euW1D3\n",
      "** RT @DanRather: The coronavirus is at record numbers. It's raging out of control. Where the hell is the federal government? Where the hell i…\n",
      "** RT @NASAExoplanets: We know of 4,179 planets – and the one we’re on is the most important🌎\n",
      "When it comes to fighting COVID-19, we're in thi…\n",
      "** As European Union nations continue to ease coronavirus restrictions, EU member states are discussing barring visito… https://t.co/J90WXHpoV8\n",
      "** RT @brianschatz: 1) Millions of people did not march on the street for a blue ribbon commission. 2) The United States of America won the Ci…\n",
      "** RT @PoliciaDeMiami: El director del IMSS @zoerobledo nunca tuvo coronavirus.\n",
      "\n",
      "Abro hilo.\n",
      "** RT @JasmynBeKnowing: This woman on the news just said, imagine if there was a medication that reduced your chances of getting COVID by 5x.…\n",
      "** @realDonaldTrump No doubt...pathological liar, corrupt criminal #donaldtrump failed to act on information from Chin… https://t.co/RznVufue2Z\n",
      "** Entérate de la información oficial sobre el #Coronavirus #COVID19 🦠en el Estado de Chihuahua a través de la Confere… https://t.co/nJGAv1YJrX\n",
      "** RT @LoroHomero: Hoy se incorpora  a @saludquito el Dr. Paúl Carrasco, Emergenciólogo y Director del posgrado de Emergenciología de la Unive…\n",
      "** RT @jennybethm: Dr. Mark McDonald child psychiatrist➡️“The risk of death in children from flu, from seasonal flu, is 20 to 30 times higher…\n",
      "** RT @DouglasGarcia: Minha mãe, tia, vó e meu vô foram diagnosticados com COVID-19. Foram medicados com hidroxicloroquina já nos sintomas ini…\n",
      "** RT @PoliciaDeMiami: El director del IMSS @zoerobledo nunca tuvo coronavirus.\n",
      "\n",
      "Abro hilo.\n",
      "** RT @carbonvivo: Covid + Lluvia + polvo del Sahara + atardecer https://t.co/iGJl3znoVs\n",
      "** RT @ordurebizare69: Así les hacen la prueba del coronavirus, por si quieren seguir saliendo  https://t.co/2GO6j97Eq2\n",
      "** Now, in the age of the coronavirus, curb appeal is more vital than ever. Here are six tips for attracting potential… https://t.co/qZFTElqZuv\n",
      "** RT @amvetsupport: trump continues to lie and expose thousands of people to Covid. For what?  His damn re-election. He and his surrogates (H…\n",
      "** La OMS aprobó una nueva clasificación del dengue en la que se destacan los signos de alarma para tratar a los pacie… https://t.co/fvXGQ7BQc0\n",
      "** RT @AndrewYang: Trump calling COVID-19 the “Kung Flu” is stupid, racist and part of the reason he is losing this election in increasingly h…\n",
      "** RT @MHafeez22: After Tested positive COVID-19 acc to PCB testing Report yesterday,as 2nd opinion &amp; for satisfaction I personally went to Te…\n",
      "** RT @DanRather: The coronavirus is at record numbers. It's raging out of control. Where the hell is the federal government? Where the hell i…\n",
      "** RT @NYGovCuomo: I am announcing with @GovMurphy and @GovNedLamont a joint travel advisory. All individuals traveling from states with signi…\n",
      "** RT @RonaldKlain: COVID denial will not stop COVID.  The virus doesn't care if you count cases or not.\n",
      "** RT @jornalnacional: Na semana passada, os técnicos disseram que a doença estaria se aproximando de uma situação de estabilidade, o chamado…\n",
      "** RT @auri_nellys_10: Estoy devastada. Hoy realicé una segunda prueba Covid y he vuelto a dar positivo. La doctora dice que mis pulmones no e…\n",
      "** RT @LaChiquisYareli: Estarías de acuerdo que se recorten 200 diputados, 32 senadores plurinominales y el 50% de su inflado presupuesto al @…\n",
      "** RT @FCristales: 177 casos de COVID confirmados pars el día de hoy. Preocupante.\n",
      "\n",
      "Y ni la AL ni la Sala de lo constitucional van a permitir…\n",
      "** Meeting your friends after corona crisis.... If your friends say.. You're the same as before corona...  \n",
      "Then you d… https://t.co/rl8ffBD7KT\n",
      "** RT @SSZ_Zac: #InfoSalud\n",
      "\n",
      "#QuédateEnCasa \n",
      "\n",
      "Actualización del reporte sobre Coronavirus (COVID-19) en Zacatecas, y Comunicado Oficial:\n",
      "\n",
      "Toda…\n",
      "** Hoje estava a cara da Corona bem gelada 😋\n",
      "** RT @Origina90s: น้องเขิลไม่ให้ถ่ายหน้า แต่ถ่ายหีพอได้\n",
      "................................................\n",
      "อันเนื่องมาเกิดโรคระบาด(Covid-19)\n",
      "ทา…\n",
      "** RT @seanmdav: Oregon County Issues Coronavirus Mask Mandate, But Only For White People https://t.co/UKGclhA8M0\n",
      "** The #VictorianConnection continues to profile some of the Victorians who have lost – and found – new jobs during co… https://t.co/kD16PYUGX6\n",
      "** RT @thegoodgodabove: MOTION TO RENAME COVID AS TRUMP FLU\n",
      "** RT @mmpadellan: Dozens of Secret Service agents had to self-quarantine after the Tulsa rally.\n",
      "\n",
      "Seriously...how does he NOT have COVID-19?\n",
      "#…\n",
      "** RT @SMurray1000: I know I keep asking this but does @GOP really think they're going to win elections if their negligence continues to allow…\n",
      "** RT @LoroHomero: Hoy se incorpora  a @saludquito el Dr. Paúl Carrasco, Emergenciólogo y Director del posgrado de Emergenciología de la Unive…\n",
      "** RT @KarinGomesKG: la ola de embarazos que hay me preocupa más que el covid-19 así que cuídense chiquis y bueno, a los futuros papis éxitos✨\n",
      "** “Arizona &amp; Texas have rapidly spiking new case of #Covid_19.”\n",
      "...I’m at a Truck Stop in #Arizona right now, and thi… https://t.co/Ea3dxogysm\n",
      "** RT @covidmx: Revisa la situación actualizada de la epidemia en tu entidad en nuestro sitio https://t.co/C85Zec8r63 . \n",
      "Hoy* la @SSalud_mx re…\n",
      "** RT @doctormacias: En México la pandemia de coronavirus sigue su paso avasallador. Debemos pasar a la ofensiva:\n",
      "1. TODOS usar mascarilla en…\n",
      "** RT @cmclymer: As a delegate representing the District of Columbia, I'm incredibly proud of the DNC for prioritizing the safety of all from…\n",
      "** RT @CasalFalando: eu fazendo minha mão de máscara pra ela se proteger do corona... Pq quem ama cuida https://t.co/kwFcZND0Mg\n",
      "** RT @drdavidsamadi: Dr. Fauci says a COVID-19 vaccine will be in America very soon.\n",
      "\n",
      "If the vaccine arrives, will you be taking it?\n",
      "\n",
      "Why or…\n",
      "** RT @NathanLerner: How many Americans killed by COVID-19 would still be alive today if Trump hadn’t politicized wearing a mask?\n",
      "** RT @CasalFalando: eu fazendo minha mão de máscara pra ela se proteger do corona... Pq quem ama cuida https://t.co/kwFcZND0Mg\n",
      "** RT @kylegriffin1: Breaking via WaPo: Dozens of Secret Service officers and agents on site for Trump's Tulsa rally have been ordered to self…\n",
      "** RT @DanielBlancoPaz: Historia de un hospital colpasado por el Coronavirus en Venezuela. Solo hay ocho camas para cien pacientes. Quienes no…\n",
      "** #NotOverYet #StayHome  New York, New Jersey and Connecticut to quarantine visitors from coronavirus hot spots… https://t.co/896K8Eemwc\n",
      "** RT @MeidasTouch: Trump wants to hide these numbers. He wants to act like the worst of COVID-19 is behind us. Don't let him.\n",
      "\n",
      "#TrumpKillsUS…\n",
      "** RT @pierrelucena: Quem quiser acompanhar o Dashboard com os dados da Covid-19 no Recife, o endereço definitivo é este. Lá você pode ver tod…\n",
      "** @izanf To com muita saudadeee, corona vai embora preciso ir visitar minha amiga\n",
      "** A verdade é que enquanto o vírus tá lá, contaminando só os conhecidos, matando só quem vc não conhece, vc não sente… https://t.co/IVy7wW3jVv\n",
      "** A whole flight mostly full of bioterrorists here.\n",
      "\n",
      "Good chance of hundreds of billions of dollars more economic dam… https://t.co/VNL584PmX6\n",
      "** RT @TroyKinsey: \"They need to figure out where they want to be in two or three weeks and start implementing policies to address that,\" Dr.…\n",
      "** RT @maryorinmendez: Delcy Rodríguez no admitió hoy casos de coronavirus en Zulia donde está el foco más grande de Venezuela y se han produc…\n",
      "** RT @ShamsCharania: Kings guard Buddy Hield has tested positive for coronavirus, sources tell me and @sam_amick.\n",
      "** RT @ASlavitt: BREAKING: US hits single day high of reported Coronavirus cases.\n",
      "\n",
      "Federal government silent.\n",
      "** RT @SethAbramson: I wonder if America realizes that by no means is it off the roster of possibilities that Trump's rhetoric, mismanagement,…\n",
      "** RT @CarmenSalinasLo: Hay cada pendeja y pendejo que todavía aseguran que el pinche coronavirus no existe, que es cosa del gobierno... no ma…\n",
      "** #kawanLaut @djplkemenhub151 @kemenhub151 Selamat hari pelaut dunia, 25 Juni 2020. Terima kasih kepada semua pelaut… https://t.co/su0Z9gUpk0\n",
      "** RT @BadassTeachersA: We've been asking for small class sizes for years. Too bad it might take a pandemic to make it happen.  #Covid19 #Coro…\n",
      "** RT @CarlesK10: Holaa!! Necesito de su gran ayuda, esta Sra que esta en la imagen de abajo es amiga de mi mamá y esta necesitando con URGENC…\n",
      "** #Coronavirus: India Extends Validity Of Seafarers' Certificates Till December 2021 https://t.co/88kZ1fgFgL… https://t.co/U2UkP24smq\n",
      "** RT @AltamiroAlvesd2: #UNIDOSPELAOPTOMETRIA O Brasil necessita. Existente em 176 países no mundo, segundo a Organização Mundial da Saúde (OM…\n",
      "** RT @DanRather: The coronavirus is at record numbers. It's raging out of control. Where the hell is the federal government? Where the hell i…\n",
      "** RT @Mike_Hixenbaugh: Dear major American news outlets: As Houston’s COVID crisis deepens in the coming days, you will no doubt be confronte…\n",
      "** RT @MedicosUnidosVe: Último reporte de Estado Zulia, informan del fallecimiento del colega Dr. Manuel Romero, Ginecoobstetra por COVID-19.…\n",
      "** RT @MarianaVAGG: Si por COVID no hay feria del alfenique este año me mato.\n",
      "** 14 Common #Coronavirus Myths Busted https://t.co/PSXBTwT3LH\n",
      "** @marcorubio Thousands of your employers are getting covid every day and likely thousands will die. Have you talked… https://t.co/1YShKhuPwJ\n",
      "** RT @robshirkey: Doris Grinspun, President of Registered Nurses Association of Ontario on mandatory masking:\n",
      "\n",
      "\"What are we waiting for? It i…\n",
      "** RT @CNN: People shouldn’t count on getting a hiatus from Covid-19 in the summer months to prepare for fall, said Michael Osterholm, directo…\n",
      "** RT @shomaristone: Protests haven't led to COVID-19 spikes, study finds: @NBCNews \n",
      "https://t.co/VJEQuvdaxs\n",
      "** RT @DailyCaller: Trump Campaign Sues Left-Wing Super PAC For Creating Ad Suggesting POTUS Called COVID A ‘Hoax’ https://t.co/E7GkCECmR2\n",
      "** RT @Aaron_Derfel: 1) In a stunning lack of transparency, Quebec has announced it will no longer make public each day its #COVID numbers on…\n",
      "** @fdbedout Son tan precisas las instrucciones del gobierno que el indice de muertes por coronavirus vs infectados ge… https://t.co/nCJyosObfD\n"
     ]
    }
   ],
   "source": [
    "#percorre o tweet faz a analise do sentimento de polaridade\n",
    "for tweet in tweets:\n",
    "    print('**', tweet.text) \n",
    "    analysis = tb(tweet.text)\n",
    "    polarity = analysis.sentiment.polarity\n",
    "    tweets_score.append(polarity)"
   ]
  },
  {
   "cell_type": "code",
   "execution_count": 14,
   "metadata": {},
   "outputs": [
    {
     "name": "stdout",
     "output_type": "stream",
     "text": [
      "Vetor de polaridade: [0.0, -0.7999999999999999, 0.0, 0.0, 0.5, 0.13333333333333333, 0.0, 0.0, -0.25, 0.13333333333333333, 0.0, 0.0, 0.0, -0.06666666666666667, 0.0, 0.0, 0.0, -0.3125, 0.0, 0.19363636363636363, 0.13333333333333333, 0.13333333333333333, 0.0, -0.8, 0.0, 0.5, 0.0, 0.0, 0.0, 0.0, -0.4666666666666666, 0.0, 0.0, 0.0, 0.0, 0.0, 0.0, 0.0, 0.3, 0.0, 0.0, -0.7999999999999999, 0.07575757575757576, 0.0, 0.0, 0.0, 0.0, 0.0, 0.0, 0.0, 0.0, 0.0, 0.0, 0.0, 0.0, 0.13636363636363635, 0.0, -0.4, 0.5, 0.0, 0.0, 0.21103896103896103, 0.0, 0.0, 0.8, 0.0, 0.2, 0.13333333333333333, 0.0, -0.4, 0.0, 0.17424242424242423, -0.25, 0.0, 0.0, 0.0, 0.39, 0.0, 0.0, 0.22727272727272727, 0.029523809523809525, 0.0, 0.0, 0.0, -0.4749999999999999, 0.0, 0.0, 0.0, 0.0, 0.03125, 0.0, 0.0, -0.3, 0.0, 0.0, 0.0, 0.0, 0.3333333333333333, 0.25, 0.0]\n"
     ]
    }
   ],
   "source": [
    "print('Vetor de polaridade:', tweets_score)"
   ]
  },
  {
   "cell_type": "code",
   "execution_count": 15,
   "metadata": {},
   "outputs": [
    {
     "name": "stdout",
     "output_type": "stream",
     "text": [
      "MÉDIA DE SENTIMENTO: 0.001982521645021647\n"
     ]
    }
   ],
   "source": [
    "print('MÉDIA DE SENTIMENTO: ' + str(np.mean(tweets_score))) #função mean pertence ao numpy str converte a média para string"
   ]
  },
  {
   "cell_type": "code",
   "execution_count": 18,
   "metadata": {},
   "outputs": [
    {
     "name": "stdout",
     "output_type": "stream",
     "text": [
      "Texto traduzido #NoticiasTM After the economic reopening in the city, the municipal administration has prepared to manage our… https://t.co/LHdMQpnQ0Z: \n",
      "Texto traduzido RT @JNarcy: My friend Rafa saw his mother die from COVID by video call because a hospital nurse became sensitized and allowed it. A…: \n",
      "Texto traduzido RT @VPITV: #World | Brazil registered in 24 hours more than 42,700 infections and 1,185 deaths from #coronavirus https://t.co/5Wj3vHdJJj https: //t.…: \n",
      "Texto traduzido Staff of Disney World employees are requesting not to return to their work, given that cases of contagion can… https://t.co/0BigeIGYEC: \n",
      "Texto traduzido RT @Rconstantino: We found that the Chinese virus only likes crowding on the right, but avoids the left! Or, what is a little more proves ...: \n",
      "Texto traduzido RT @cocando: Coronavirus leaves Venezuelans without remittances\n",
      "\n",
      "https://t.co/LA2eNu18HM: \n",
      "Texto traduzido @justbehonestk @CarmilatiRenato @RafaelGreca_ Luíza, so far you haven't had an answer based on science. If… https://t.co/MG41euW1D3: \n",
      "Texto traduzido RT @PoliciaDeMiami: The director of the IMSS @zoerobledo never had coronavirus.\n",
      "\n",
      "I open thread.: \n",
      "Texto traduzido Find out the official information about #Coronavirus # COVID19 🦠in the State of Chihuahua through the Confere… https://t.co/nJGAv1YJrX: \n",
      "Texto traduzido RT @LoroHomero: Today Dr. Paúl Carrasco, Emergenciologist and Director of the Postgraduate degree in Emergenciology at the University, joins @saludquito…: \n",
      "Texto traduzido RT @DouglasGarcia: My mom, aunt, grandma and grandpa were diagnosed with COVID-19. They were medicated with hydroxychloroquine already in early symptoms.: \n",
      "Texto traduzido RT @PoliciaDeMiami: The director of the IMSS @zoerobledo never had coronavirus.\n",
      "\n",
      "I open thread.: \n",
      "Texto traduzido RT @carbonvivo: Covid + Rain + dust from the Sahara + sunset https://t.co/iGJl3znoVs: \n",
      "Texto traduzido RT @ ordurebizare69: This is how they test for the coronavirus, in case they want to keep going out https://t.co/2GO6j97Eq2: \n",
      "Texto traduzido The WHO approved a new classification of dengue that highlights the warning signs to treat patients ... https://t.co/fvXGQ7BQc0: \n",
      "Texto traduzido RT @jornalnacional: Last week, technicians said the disease would be approaching a situation of stability, the so-called…: \n",
      "Texto traduzido RT @ auri_nellys_10: I am devastated. Today I did a second Covid test and I tested positive again. The doctor says that my lungs are not ...: \n",
      "Texto traduzido RT @LaChiquisYareli: You would agree to cut 200 deputies, 32 multi-member senators and 50% of your inflated budget to @ ...: \n",
      "Texto traduzido RT @FCristales: 177 cases of COVID confirmed for today. Worrying.\n",
      "\n",
      "And neither the AL nor the Constitutional Chamber will allow ...: \n",
      "Texto traduzido RT @SSZ_Zac: #InfoSalud\n",
      "\n",
      "#Stay at home\n",
      "\n",
      "Update of the report on Coronavirus (COVID-19) in Zacatecas, and Official Statement:\n",
      "\n",
      "All ...: \n",
      "Texto traduzido Today was Corona's face very cold 😋: \n",
      "Texto traduzido RT @ Origina90s: Don't shy to shoot the face. But taking enough pussy\n",
      "................................................\n",
      "Due to an outbreak (Covid-19)\n",
      "Apply ...: \n",
      "Texto traduzido RT @LoroHomero: Today Dr. Paúl Carrasco, Emergenciologist and Director of the Postgraduate degree in Emergenciology at the University, joins @saludquito…: \n",
      "Texto traduzido RT @KarinGomesKG: the wave of pregnancies out there worries me more than the covid-19 so take care chiquis and well, future daddies success✨: \n",
      "Texto traduzido RT @covidmx: Check the updated situation of the epidemic in your entity on our site https://t.co/C85Zec8r63.\n",
      "Today * @SSalud_mx re…: \n",
      "Texto traduzido RT @doctormacias: In Mexico the coronavirus pandemic continues its overwhelming pace. We must go on the offensive:\n",
      "1. ALL wear a mask in ...: \n",
      "Texto traduzido RT @CasalFalando: me making my mask hand for her to protect herself from the corona ... Cuz those who love take care https://t.co/kwFcZND0Mg: \n",
      "Texto traduzido RT @CasalFalando: me making my mask hand for her to protect herself from the corona ... Cuz those who love take care https://t.co/kwFcZND0Mg: \n",
      "Texto traduzido RT @DanielBlancoPaz: History of a hospital affected by the Coronavirus in Venezuela. There are only eight beds for a hundred patients. Who doesn't ...: \n",
      "Texto traduzido RT @pierrelucena: Whoever wants to accompany the Dashboard with Covid-19 data in Recife, this is the definitive address. There you can see all…: \n",
      "Texto traduzido @izanf To I miss you a lot, Corona is leaving I need to visit my friend: \n",
      "Texto traduzido The truth is that while the virus is there, contaminating only the known, killing only those you don't know, you don't feel… https://t.co/IVy7wW3jVv: \n",
      "Texto traduzido RT @maryorinmendez: Delcy Rodríguez did not admit cases of coronavirus in Zulia today where the largest focus is in Venezuela and there have been…: \n",
      "Texto traduzido RT @CarmenSalinasLo: There are every asshole and asshole who still assure that the fucking coronavirus does not exist, that it is a government thing ... no ma ...: \n",
      "Texto traduzido #kawanLaut @ djplkemenhub151 @ kemenhub151 Happy world sailor, June 25, 2020. Thanks to all sailors… https://t.co/su0Z9gUpk0: \n",
      "Texto traduzido RT @ CarlesK10: Hi there !! I need your great help, this Mrs. who is in the image below is a friend of my mom and is in need of URGENC ...: \n",
      "Texto traduzido RT @ AltamiroAlvesd2: #UNIDOSPELAOPTOMETRIA Brazil needs it. Existing in 176 countries in the world, according to the World Health Organization (OM…: \n",
      "Texto traduzido RT @MedicosUnidosVe: Last report of Zulia State, they report the death of the colleague Dr. Manuel Romero, Obstetrician Gynecologist by COVID-19.…: \n",
      "Texto traduzido RT @MarianaVAGG: If by COVID there is no alfenique fair this year I will kill myself.: \n",
      "Texto traduzido @fdbedout The government's instructions are so precise that the death rate from coronavirus vs infected ge… https://t.co/nCJyosObfD: \n"
     ]
    }
   ],
   "source": [
    "#análise de polaridade para tweets que não foram postados em inglês.\n",
    "polarities = []\n",
    "\n",
    "for tweet in tweets:\n",
    "    analysis = tb(tweet.text)\n",
    "    \n",
    "    if analysis.detect_language() != 'en': #se não for ingles atribui\n",
    "        traducao = tb(str(analysis.translate(to='en')))\n",
    "        print('Texto traduzido %s: '% traducao)\n",
    "        polarity = traducao.sentiment.polarity\n",
    "    else:\n",
    "        polarity = analysis.sentiment.polarity\n",
    "        \n",
    "    polarities.append(polarity)"
   ]
  },
  {
   "cell_type": "code",
   "execution_count": 19,
   "metadata": {},
   "outputs": [
    {
     "name": "stdout",
     "output_type": "stream",
     "text": [
      "Vetor de polaridade:  [0.0, -0.7999999999999999, 0.0, 0.0, 0.5, 0.13333333333333333, 0.2, 0.0, -0.25, 0.13333333333333333, 0.0, 0.5, 0.0, -0.06666666666666667, 0.12831632653061223, 0.0, 0.0, -0.3125, 0.0, 0.19363636363636363, 0.13333333333333333, 0.13333333333333333, 0.0, 0.1, 0.0, 0.5, 0.0, 0.0, 0.0, 0.0, -0.4666666666666666, 0.0, 0.0, 0.0, 0.1, 0.0, 0.0, 0.0, 0.3, 0.0, 0.13636363636363635, -0.7999999999999999, 0.07575757575757576, 0.0, 0.0, 0.0, 0.0, 0.11363636363636363, 0.0, 0.4, 0.0, 0.0, -0.78, -0.20833333333333334, 0.0, 0.13636363636363635, 0.0, -0.4, 0.5, 0.0, 0.25, 0.21103896103896103, 0.0, 0.5, 0.8, 0.5, 0.2, 0.13333333333333333, 0.5, -0.4, 0.0, 0.17424242424242423, -0.25, 0.2, 0.0, 0.0, 0.39, 0.0, 0.0, 0.22727272727272727, 0.029523809523809525, 0.0, -0.6, 0.5, -0.4749999999999999, 0.8, 0.0, 0.0, 0.0, 0.03125, 0.0, 0.7, -0.3, 0.0, 0.0, 0.0, 0.0, 0.3333333333333333, 0.25, 0.4]\n"
     ]
    }
   ],
   "source": [
    "print('Vetor de polaridade: ', polarities)"
   ]
  },
  {
   "cell_type": "code",
   "execution_count": 20,
   "metadata": {},
   "outputs": [
    {
     "name": "stdout",
     "output_type": "stream",
     "text": [
      "MÉDIA DE SENTIMENTO: 0.05438235157699444\n"
     ]
    }
   ],
   "source": [
    "print(\"MÉDIA DE SENTIMENTO: \" + str(np.mean(polarities)))"
   ]
  },
  {
   "cell_type": "markdown",
   "metadata": {},
   "source": [
    "# Armazena informação em arquivo"
   ]
  },
  {
   "cell_type": "code",
   "execution_count": 21,
   "metadata": {},
   "outputs": [],
   "source": [
    "#importa pacote json\n",
    "import json"
   ]
  },
  {
   "cell_type": "code",
   "execution_count": 22,
   "metadata": {},
   "outputs": [],
   "source": [
    "status = tweets[0]\n",
    "\n",
    "#convert para string\n",
    "json_str = json.dumps(status._json)\n",
    "\n",
    "#deserialise string para um objeto python\n",
    "parsed = json.loads(json_str)"
   ]
  },
  {
   "cell_type": "code",
   "execution_count": 23,
   "metadata": {},
   "outputs": [
    {
     "data": {
      "text/plain": [
       "tweepy.models.SearchResults"
      ]
     },
     "execution_count": 23,
     "metadata": {},
     "output_type": "execute_result"
    }
   ],
   "source": [
    "type(tweets) #imprime o tipo de dado tweets"
   ]
  },
  {
   "cell_type": "code",
   "execution_count": 24,
   "metadata": {},
   "outputs": [
    {
     "data": {
      "text/plain": [
       "str"
      ]
     },
     "execution_count": 24,
     "metadata": {},
     "output_type": "execute_result"
    }
   ],
   "source": [
    "type(json_str) #imprime o tipo de dados json_str"
   ]
  },
  {
   "cell_type": "code",
   "execution_count": 25,
   "metadata": {},
   "outputs": [
    {
     "data": {
      "text/plain": [
       "dict"
      ]
     },
     "execution_count": 25,
     "metadata": {},
     "output_type": "execute_result"
    }
   ],
   "source": [
    "type(parsed) #imprime o tuoi de dados parsed - dict é o tipo que consegue importar para o mongo"
   ]
  },
  {
   "cell_type": "code",
   "execution_count": 31,
   "metadata": {},
   "outputs": [],
   "source": [
    "#import datetime\n",
    "from datetime import date"
   ]
  },
  {
   "cell_type": "code",
   "execution_count": 38,
   "metadata": {},
   "outputs": [
    {
     "name": "stdout",
     "output_type": "stream",
     "text": [
      "File:  C:\\Users\\jose.sousa1\\Documents\\Treinamentos\\Cursos - Git Repository\\IGTI\\Modulo3\\Bootcamp\\PyScripts\\Jupyter\\TwitterData\\tweets_keywords_2020-06-24.json\n"
     ]
    }
   ],
   "source": [
    "#salva em arquivo\n",
    "datasetPath = 'C:\\\\Users\\\\jose.sousa1\\\\Documents\\\\Treinamentos\\\\Cursos - Git Repository\\\\IGTI\\\\Modulo3\\\\Bootcamp\\\\PyScripts\\\\Jupyter\\\\TwitterData'\n",
    "data_atual = date.today()\n",
    "file = datasetPath+'\\\\tweets_keywords_'+ str(data_atual) + '.json'\n",
    "print(\"File: \", file)\n",
    "\n"
   ]
  },
  {
   "cell_type": "code",
   "execution_count": 41,
   "metadata": {},
   "outputs": [],
   "source": [
    "with open(file, 'a', encoding='utf8') as filename: #aberto em modo de append\n",
    "    for tweet in tweets: \n",
    "        status = tweet\n",
    "        #converte para string\n",
    "        json_str = json.dumps(status._json)\n",
    "        \n",
    "        #deserializa a string para um objeto python do tipo dict\n",
    "        parsed = json.loads(json_str)\n",
    "        \n",
    "        #grava o tweet deserializado no arquivo\n",
    "        json.dump(parsed, filename, ensure_ascii=False, sort_keys=True, indent=4, separators=(',', ':'))\n"
   ]
  },
  {
   "cell_type": "markdown",
   "metadata": {},
   "source": [
    "# Armazena no MongoDB"
   ]
  },
  {
   "cell_type": "code",
   "execution_count": 43,
   "metadata": {},
   "outputs": [],
   "source": [
    "#importa pacote pymongo\n",
    "import pymongo"
   ]
  },
  {
   "cell_type": "code",
   "execution_count": 44,
   "metadata": {},
   "outputs": [],
   "source": [
    "#conexao ao banco de dados\n",
    "conn = pymongo.MongoClient('localhost', 27017)\n",
    "\n",
    "#seleciona o banco de dados\n",
    "db = conn.twitterdb"
   ]
  },
  {
   "cell_type": "code",
   "execution_count": 45,
   "metadata": {},
   "outputs": [],
   "source": [
    "#seleciona a coleção para armazenar os tweets\n",
    "collection = db.tweets_keywords"
   ]
  },
  {
   "cell_type": "code",
   "execution_count": 49,
   "metadata": {},
   "outputs": [
    {
     "name": "stderr",
     "output_type": "stream",
     "text": [
      "C:\\Users\\jose.sousa1\\Anaconda3\\envs\\dev\\lib\\site-packages\\ipykernel_launcher.py:2: DeprecationWarning: count is deprecated. Use estimated_document_count or count_documents instead. Please note that $where must be replaced by $expr, $near must be replaced by $geoWithin with $center, and $nearSphere must be replaced by $geoWithin with $centerSphere\n",
      "  \n"
     ]
    },
    {
     "data": {
      "text/plain": [
       "0"
      ]
     },
     "execution_count": 49,
     "metadata": {},
     "output_type": "execute_result"
    }
   ],
   "source": [
    "#lista a quantidade de tweets existentes na coleção\n",
    "db.tweets_keywords.count()"
   ]
  },
  {
   "cell_type": "code",
   "execution_count": 50,
   "metadata": {},
   "outputs": [
    {
     "data": {
      "text/plain": [
       "0"
      ]
     },
     "execution_count": 50,
     "metadata": {},
     "output_type": "execute_result"
    }
   ],
   "source": [
    "db.tweets_keywords.count_documents({})"
   ]
  },
  {
   "cell_type": "code",
   "execution_count": 53,
   "metadata": {},
   "outputs": [],
   "source": [
    "i=0\n",
    "#insere os tweets\n",
    "for tweet in tweets:\n",
    "    db.tweets_keywords.insert_one(tweet._json)\n",
    "    i=i+1"
   ]
  },
  {
   "cell_type": "code",
   "execution_count": null,
   "metadata": {},
   "outputs": [],
   "source": [
    "\n",
    "    "
   ]
  },
  {
   "cell_type": "code",
   "execution_count": 54,
   "metadata": {},
   "outputs": [
    {
     "name": "stdout",
     "output_type": "stream",
     "text": [
      "Quantidade de tweets inserdos: 100\n"
     ]
    }
   ],
   "source": [
    "#lista a quantidade de tweets inseridos\n",
    "print(\"Quantidade de tweets inserdos: %s\" % i)"
   ]
  },
  {
   "cell_type": "code",
   "execution_count": 55,
   "metadata": {},
   "outputs": [
    {
     "data": {
      "text/plain": [
       "100"
      ]
     },
     "execution_count": 55,
     "metadata": {},
     "output_type": "execute_result"
    }
   ],
   "source": [
    "#lista a quantidade de tweets existentes na coleção\n",
    "db.tweets_keywords.count_documents({})"
   ]
  },
  {
   "cell_type": "code",
   "execution_count": null,
   "metadata": {},
   "outputs": [],
   "source": []
  }
 ],
 "metadata": {
  "kernelspec": {
   "display_name": "Python 3",
   "language": "python",
   "name": "python3"
  },
  "language_info": {
   "codemirror_mode": {
    "name": "ipython",
    "version": 3
   },
   "file_extension": ".py",
   "mimetype": "text/x-python",
   "name": "python",
   "nbconvert_exporter": "python",
   "pygments_lexer": "ipython3",
   "version": "3.7.1"
  }
 },
 "nbformat": 4,
 "nbformat_minor": 4
}
