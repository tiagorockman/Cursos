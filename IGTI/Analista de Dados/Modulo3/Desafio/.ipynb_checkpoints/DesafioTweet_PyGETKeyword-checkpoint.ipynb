{
 "cells": [
  {
   "cell_type": "code",
   "execution_count": 50,
   "metadata": {},
   "outputs": [],
   "source": [
    "#importa biblioteca\n",
    "import tweepy\n",
    "#importa pacote json\n",
    "import json\n",
    "import csv\n",
    "import pymongo"
   ]
  },
  {
   "cell_type": "code",
   "execution_count": 51,
   "metadata": {},
   "outputs": [],
   "source": [
    "#autenticacao tweet\n",
    "consumer_key = \"w14sE6WOPocTI0ZCmrXMoXLK2\"\n",
    "consumer_secret = \"IChDWYpSXRr5HFGxFKtoSUaEysiiY3LIIKVDrR4twEpk1QSZ9Y\"\n",
    "access_token = \"1574569164-EQGkgTBJhCIRwWPUWjCGZK7pkwV8P6ZKwDz1fSA\"\n",
    "access_token_secret = \"nrppar8dsdmQT1fFcGvYgbeBHu9JvcjIZzjPEpYOuzky8\"\n",
    "\n",
    "auth = tweepy.OAuthHandler(consumer_key, consumer_secret)\n",
    "auth.set_access_token(access_token, access_token_secret)\n",
    "api = tweepy.API(auth)"
   ]
  },
  {
   "cell_type": "code",
   "execution_count": 9,
   "metadata": {},
   "outputs": [
    {
     "name": "stdout",
     "output_type": "stream",
     "text": [
      "File:  C:\\Users\\jose.sousa1\\Documents\\Treinamentos\\Cursos - Git Repository\\IGTI\\Modulo3\\Desafio\\Desafio-2\\Desafio\\tweets.csv\n"
     ]
    }
   ],
   "source": [
    "#define caminho do arquivo\n",
    "datasetPath = 'C:\\\\Users\\\\jose.sousa1\\\\Documents\\\\Treinamentos\\\\Cursos - Git Repository\\\\IGTI\\\\Modulo3\\\\Desafio\\\\Desafio-2\\\\Desafio'\n",
    "file = datasetPath+'\\\\tweets.csv'\n",
    "print(\"File: \", file)"
   ]
  },
  {
   "cell_type": "code",
   "execution_count": null,
   "metadata": {},
   "outputs": [],
   "source": [
    "status = tweets[0]\n"
   ]
  },
  {
   "cell_type": "code",
   "execution_count": 52,
   "metadata": {},
   "outputs": [],
   "source": [
    "#conexao ao banco de dados\n",
    "conn = pymongo.MongoClient('localhost', 27017)\n",
    "\n",
    "#seleciona o banco de dados\n",
    "db = conn.igti\n"
   ]
  },
  {
   "cell_type": "code",
   "execution_count": 53,
   "metadata": {},
   "outputs": [],
   "source": [
    "#seleciona a coleção para armazenar os tweets\n",
    "collection = db.desafio_twitter"
   ]
  },
  {
   "cell_type": "code",
   "execution_count": 54,
   "metadata": {},
   "outputs": [
    {
     "name": "stdout",
     "output_type": "stream",
     "text": [
      "Total de tweeets coletados 100.\n"
     ]
    }
   ],
   "source": [
    "keyword = ('home office')\n",
    "tweets = api.search(q=keyword, count=100, result_type='mixed')\n",
    "print(\"Total de tweeets coletados %s.\" %(len(tweets)))"
   ]
  },
  {
   "cell_type": "code",
   "execution_count": 76,
   "metadata": {},
   "outputs": [],
   "source": [
    "i=0\n",
    "#insere os tweets\n",
    "for tweet in tweets:\n",
    "    db.desafio_twitter.insert_one(tweet._json)\n",
    "    i=i+1"
   ]
  },
  {
   "cell_type": "code",
   "execution_count": 77,
   "metadata": {},
   "outputs": [
    {
     "data": {
      "text/plain": [
       "693"
      ]
     },
     "execution_count": 77,
     "metadata": {},
     "output_type": "execute_result"
    }
   ],
   "source": [
    "db.desafio_twitter.count_documents({})"
   ]
  },
  {
   "cell_type": "code",
   "execution_count": 59,
   "metadata": {},
   "outputs": [
    {
     "name": "stdout",
     "output_type": "stream",
     "text": [
      "Total de tweeets coletados 100.\n"
     ]
    }
   ],
   "source": [
    "keyword = ('trabalho remoto')\n",
    "tweets = api.search(q=keyword, count=100, result_type='mixed')\n",
    "print(\"Total de tweeets coletados %s.\" %(len(tweets)))"
   ]
  },
  {
   "cell_type": "code",
   "execution_count": 63,
   "metadata": {},
   "outputs": [
    {
     "name": "stdout",
     "output_type": "stream",
     "text": [
      "Total de tweeets coletados 100.\n"
     ]
    }
   ],
   "source": [
    "keyword = ('remote work')\n",
    "tweets = api.search(q=keyword, count=100, result_type='mixed')\n",
    "print(\"Total de tweeets coletados %s.\" %(len(tweets)))"
   ]
  },
  {
   "cell_type": "code",
   "execution_count": 66,
   "metadata": {},
   "outputs": [
    {
     "name": "stdout",
     "output_type": "stream",
     "text": [
      "Total de tweeets coletados 100.\n"
     ]
    }
   ],
   "source": [
    "keyword = ('trabalho em casa')\n",
    "tweets = api.search(q=keyword, count=100, result_type='mixed')\n",
    "print(\"Total de tweeets coletados %s.\" %(len(tweets)))"
   ]
  },
  {
   "cell_type": "code",
   "execution_count": 69,
   "metadata": {},
   "outputs": [
    {
     "name": "stdout",
     "output_type": "stream",
     "text": [
      "Total de tweeets coletados 100.\n"
     ]
    }
   ],
   "source": [
    "keyword = ('remotework')\n",
    "tweets = api.search(q=keyword, count=100, result_type='mixed')\n",
    "print(\"Total de tweeets coletados %s.\" %(len(tweets)))"
   ]
  },
  {
   "cell_type": "code",
   "execution_count": 72,
   "metadata": {},
   "outputs": [
    {
     "name": "stdout",
     "output_type": "stream",
     "text": [
      "Total de tweeets coletados 93.\n"
     ]
    }
   ],
   "source": [
    "keyword = ('trabalhoremoto')\n",
    "tweets = api.search(q=keyword, count=100, result_type='mixed')\n",
    "print(\"Total de tweeets coletados %s.\" %(len(tweets)))"
   ]
  },
  {
   "cell_type": "code",
   "execution_count": 75,
   "metadata": {},
   "outputs": [
    {
     "name": "stdout",
     "output_type": "stream",
     "text": [
      "Total de tweeets coletados 100.\n"
     ]
    }
   ],
   "source": [
    "keyword = ('remote job')\n",
    "tweets = api.search(q=keyword, count=100, result_type='mixed')\n",
    "print(\"Total de tweeets coletados %s.\" %(len(tweets)))"
   ]
  },
  {
   "cell_type": "code",
   "execution_count": null,
   "metadata": {},
   "outputs": [],
   "source": []
  }
 ],
 "metadata": {
  "kernelspec": {
   "display_name": "Python 3",
   "language": "python",
   "name": "python3"
  },
  "language_info": {
   "codemirror_mode": {
    "name": "ipython",
    "version": 3
   },
   "file_extension": ".py",
   "mimetype": "text/x-python",
   "name": "python",
   "nbconvert_exporter": "python",
   "pygments_lexer": "ipython3",
   "version": "3.7.1"
  }
 },
 "nbformat": 4,
 "nbformat_minor": 4
}
