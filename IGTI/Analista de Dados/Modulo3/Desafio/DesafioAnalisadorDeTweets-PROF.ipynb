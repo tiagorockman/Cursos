{
 "cells": [
  {
   "cell_type": "markdown",
   "metadata": {},
   "source": [
    "# <font  color=blue>Análise de Sentimento no Twitter</font>"
   ]
  },
  {
   "cell_type": "markdown",
   "metadata": {},
   "source": [
    "Esse projeto consiste na Análise de sentimentos de tweets coletados através da API do Twitter sobre X. O projeto consiste em:\n",
    "* Coleta de tweets.\n",
    "* Identificação de tweets mais curtidos e retweetados.\n",
    "* Identificação da fonte dos tweets. \n",
    "* Análise de sentimentos. \n",
    "* Nuvem de palavras mais frequentes. \n",
    "* Séries de tweets no tempo. \n",
    "* Mapa de calor dos tweets utilizando a localização declarada pelos usuários.\n"
   ]
  },
  {
   "cell_type": "markdown",
   "metadata": {},
   "source": [
    "##### <font color=red>Instalação dos pacotes</font>"
   ]
  },
  {
   "cell_type": "markdown",
   "metadata": {},
   "source": [
    "Antes de realizar o desafio será necessário instalar os seguintes pacotes:\n",
    "* **Geopy:** Usada para definir a geolocalização<br>\n",
    "*conda install -c conda-forge geopy*\n",
    "* **folium**\n",
    "*conda install -c conda-forge folium*\n",
    "* **wordcloud:** Usada para gerar uma nuvem de palavras<br>\n",
    "*conda install -c conda-forge wordcloud*\n",
    "* **pandas**<br>\n",
    "*conda install -c anaconda pandas*"
   ]
  },
  {
   "cell_type": "markdown",
   "metadata": {},
   "source": [
    "### <font color=blue>Importação de pacotes</font>"
   ]
  },
  {
   "cell_type": "code",
   "execution_count": 1,
   "metadata": {},
   "outputs": [],
   "source": [
    "# Pacotes básico\n",
    "import tweepy #Acessa API do Twitter\n",
    "import pandas as pd     \n",
    "import numpy as np \n",
    "from textblob import TextBlob as tb\n",
    "import time\n",
    "import re\n",
    "\n",
    "# Pacotes para visualização \n",
    "import matplotlib.pyplot as plt\n",
    "\n",
    "#MAPA\n",
    "from geopy.geocoders import Nominatim\n",
    "import folium\n",
    "from folium import plugins\n",
    "from wordcloud import WordCloud, STOPWORDS"
   ]
  },
  {
   "cell_type": "markdown",
   "metadata": {},
   "source": [
    "### <font color=blue>Definição das credenciais de acesso (autenticação) na API do Twitter</font>"
   ]
  },
  {
   "cell_type": "code",
   "execution_count": 2,
   "metadata": {},
   "outputs": [],
   "source": [
    "# Credenciais para utilização da API do Twitter\n",
    "consumer_key = \"w14sE6WOPocTI0ZCmrXMoXLK2\"\n",
    "consumer_secret = \"IChDWYpSXRr5HFGxFKtoSUaEysiiY3LIIKVDrR4twEpk1QSZ9Y\"\n",
    "access_token = \"1574569164-EQGkgTBJhCIRwWPUWjCGZK7pkwV8P6ZKwDz1fSA\"\n",
    "access_token_secret = \"nrppar8dsdmQT1fFcGvYgbeBHu9JvcjIZzjPEpYOuzky8\"\n"
   ]
  },
  {
   "cell_type": "markdown",
   "metadata": {},
   "source": [
    "### <font color=blue>Autenticação na API do Twitter</font>"
   ]
  },
  {
   "cell_type": "code",
   "execution_count": 3,
   "metadata": {},
   "outputs": [],
   "source": [
    "#Realizar autenticação no Twitter\n",
    "\n",
    "auth = tweepy.OAuthHandler(consumer_key, consumer_secret)\n",
    "auth.set_access_token(access_token, access_token_secret)\n",
    "api = tweepy.API(auth,wait_on_rate_limit=True,wait_on_rate_limit_notify=True,retry_count=5)"
   ]
  },
  {
   "cell_type": "markdown",
   "metadata": {},
   "source": [
    "**onde:**\n",
    "* retry_count - número padrão de tentativas para tentar quando ocorrer um erro\n",
    "* retry_delay - número de segundos para aguardar entre tentativas\n",
    "* wait_on_rate_limit - se deve ou não esperar automaticamente a reposição dos limites de taxa\n",
    "* wait_on_rate_limit_notify - Imprima ou não uma notificação quando o Tweepy estiver aguardando a reposição dos limites de taxa"
   ]
  },
  {
   "cell_type": "markdown",
   "metadata": {},
   "source": [
    "### <font color=blue>Coleta de dados (busca por palavra chave)</font>"
   ]
  },
  {
   "cell_type": "code",
   "execution_count": 12,
   "metadata": {},
   "outputs": [],
   "source": [
    "# Definir listas de armazenamento\n",
    "tweets = []\n",
    "info = []\n",
    "\n",
    "#Definir que palavra deseja pesquisar no Twitter\n",
    "#keyword = ('home office  OR  trabalho remoto  OR  trabalho em casa OR homeoffice OR  trabalhoremoto OR trabalhoemcasa')\n",
    "keyword = (\"covid-19  OR  covid  OR  coronavirus OR pandemic\")\n"
   ]
  },
  {
   "cell_type": "markdown",
   "metadata": {},
   "source": [
    "**OBSERVAÇÃO:**\n",
    "A documentação completa do pacote *tweepy* está disponível no link abaixo:\n",
    "* http://docs.tweepy.org/en/v3.5.0/api.html"
   ]
  },
  {
   "cell_type": "markdown",
   "metadata": {},
   "source": [
    "Para realizar a busca por palavra chave vamos utilizar a função abaixo:<br>\n",
    "* <font color=green>API.search(q[, lang][, locale][, rpp][, page][, since_id][, geocode][, show_user])</font><br><br>\n",
    "**onde os principais parâmetros que serão usados são:**\n",
    "\n",
    "* <font color=blue>q</font> - a string de consulta de pesquisa\n",
    "* <font color=blue>lang</font> - Restringe os tweets para o idioma especificado, fornecido por um código ISO 639-1.\n",
    "* <font color=blue>rpp</font> - O número de tweets a serem retornados por página, até no máximo 100.\n",
    "* <font color=blue>page</font> - O número da página (começando em 1) a ser retornado, até um máximo de aproximadamente 1500 resultados (com base na página rpp).\n",
    "* <font color=blue>since_id</font>  - Retorna apenas status com um ID maior que (ou seja, mais recente que) o ID especificado.\n",
    "* <font color=blue>geocode</font>  - Retorna tweets de usuários localizados em um determinado raio da latitude / longitude especificada.\n",
    "* <font color=blue>show_user</font>  - Quando verdadeiro, precede \"<user>:\" no início do tweet. O padrão é falso.\n",
    "\n"
   ]
  },
  {
   "cell_type": "markdown",
   "metadata": {},
   "source": [
    "#####  <font color=red>Exemplo básico para busca por palavra chave e recuperar os tweets em português.</font>"
   ]
  },
  {
   "cell_type": "markdown",
   "metadata": {},
   "source": [
    "**Observação:** Antes de executar o código abaixo, faça a instalação dos pacotes conforme os comandos abaixo:\n",
    "* googletrans (https://anaconda.org/conda-forge/googletrans)<br>\n",
    "*conda install -c conda-forge googletrans*\n",
    "* unidecode (https://anaconda.org/anaconda/unidecode)<br>\n",
    "*conda install -c anaconda unidecode*"
   ]
  },
  {
   "cell_type": "code",
   "execution_count": 7,
   "metadata": {},
   "outputs": [],
   "source": [
    "from googletrans import Translator\n",
    "from unidecode import unidecode\n",
    "\n",
    "polaritiesPT = []\n",
    "\n",
    "for tweetpt in tweepy.Cursor(api.search,q=keyword, tweet_mode='extended',\n",
    "                           rpp=5, result_type=\"popular\",lang=\"pt\",\n",
    "                           include_entities=True).items(5):\n",
    "    #Texto do Tweet\n",
    "    textPT = unidecode(tweetpt.full_text)\n",
    "    print('** Tweet em português: '+textPT)\n",
    "    #Traduzindo para o Inglês\n",
    "    textEN = Translator().translate(textPT)\n",
    "    print('** Tweet traduzido:')\n",
    "    print(textEN.text)\n",
    "    #Calculando a polaridade do texto traduzido\n",
    "    polarityPT = tb(textEN.text).sentiment.polarity #analisa a polaridade\n",
    "\n",
    "    polaritiesPT.append(polarityPT)\n",
    "    print('\\n')"
   ]
  },
  {
   "cell_type": "code",
   "execution_count": 8,
   "metadata": {},
   "outputs": [
    {
     "name": "stdout",
     "output_type": "stream",
     "text": [
      "[]\n"
     ]
    }
   ],
   "source": [
    "print(polaritiesPT)"
   ]
  },
  {
   "cell_type": "markdown",
   "metadata": {},
   "source": [
    "##  <font color=blue>Buscar por palavra chave e recuperar os tweets em inglês</font>"
   ]
  },
  {
   "cell_type": "code",
   "execution_count": 13,
   "metadata": {},
   "outputs": [],
   "source": [
    "for tweet in tweepy.Cursor(api.search,\n",
    "                           q=keyword, tweet_mode='extended',\n",
    "                           rpp=2500, result_type=\"popular\",lang='en', #serão coletados apenas 1000 tweets nesta aula\n",
    "                           include_entities=True).items(2500):\n",
    "                           #include_entities=True).items(1000):   \n",
    "        \n",
    "    if 'retweeted_status' in dir(tweet):\n",
    "        aux=tweet.retweeted_status.full_text\n",
    "    else:\n",
    "        aux=tweet.full_text\n",
    "        \n",
    "    newtweet = aux.replace(\"\\n\", \" \")\n",
    "   \n",
    "    tweets.append(newtweet)\n",
    "    info.append(tweet)\n",
    "    \n",
    "    #file = open(\"tweets_Keyword_covid_10.txt\", \"a\", -1, \"utf-8\")\n",
    "    file = open(\"tweets_Keyword_covid10000.txt\", \"a\", -1, \"utf-8\")    \n",
    "    file.write(newtweet+'\\n')\n",
    "    file.close()\n",
    "    \n",
    "    #time.sleep(0.5)"
   ]
  },
  {
   "cell_type": "code",
   "execution_count": 14,
   "metadata": {},
   "outputs": [
    {
     "name": "stdout",
     "output_type": "stream",
     "text": [
      "Total de tweets coletados 91.\n"
     ]
    }
   ],
   "source": [
    "# Para verificar a quantidade de tweets coletado use a função \"len()\"\n",
    "\n",
    "print(\"Total de tweets coletados %s.\" % (len(info)))"
   ]
  },
  {
   "cell_type": "markdown",
   "metadata": {},
   "source": [
    "### <font color=blue>Criar dataframe</font>"
   ]
  },
  {
   "cell_type": "code",
   "execution_count": 15,
   "metadata": {},
   "outputs": [],
   "source": [
    "tweets_df = pd.DataFrame(tweets, columns=['Tweets']) \n",
    "\n",
    "tweets_df['len']  = np.array([len(tweet) for tweet in tweets])\n",
    "tweets_df['ID']   = np.array([tweet.id for tweet in info])\n",
    "tweets_df['USER']   = np.array([tweet.user.screen_name for tweet in info])\n",
    "tweets_df['userName'] = np.array([tweet.user.name for tweet in info])\n",
    "tweets_df['User Location']    = np.array([tweet.user.location for tweet in info])\n",
    "tweets_df['Language'] = np.array([tweet.user.lang for tweet in info])\n",
    "tweets_df['Date'] = np.array([tweet.created_at for tweet in info])\n",
    "tweets_df['Source'] = np.array([tweet.source for tweet in info])\n",
    "tweets_df['Likes']  = np.array([tweet.favorite_count for tweet in info])\n",
    "tweets_df['Retweets']    = np.array([tweet.retweet_count for tweet in info])\n",
    "tweets_df['Geo']    = np.array([tweet.geo for tweet in info])\n",
    "tweets_df['Coordinates']    = np.array([tweet.coordinates for tweet in info])         \n",
    "tweets_df['Place']    = np.array([tweet.place for tweet in info])\n",
    "\n",
    "tweets_df.to_csv(\"tweets_Keyword_covid_100.csv\")"
   ]
  },
  {
   "cell_type": "code",
   "execution_count": 16,
   "metadata": {},
   "outputs": [
    {
     "data": {
      "text/html": [
       "<div>\n",
       "<style scoped>\n",
       "    .dataframe tbody tr th:only-of-type {\n",
       "        vertical-align: middle;\n",
       "    }\n",
       "\n",
       "    .dataframe tbody tr th {\n",
       "        vertical-align: top;\n",
       "    }\n",
       "\n",
       "    .dataframe thead th {\n",
       "        text-align: right;\n",
       "    }\n",
       "</style>\n",
       "<table border=\"1\" class=\"dataframe\">\n",
       "  <thead>\n",
       "    <tr style=\"text-align: right;\">\n",
       "      <th></th>\n",
       "      <th>Tweets</th>\n",
       "      <th>len</th>\n",
       "      <th>ID</th>\n",
       "      <th>USER</th>\n",
       "      <th>userName</th>\n",
       "      <th>User Location</th>\n",
       "      <th>Language</th>\n",
       "      <th>Date</th>\n",
       "      <th>Source</th>\n",
       "      <th>Likes</th>\n",
       "      <th>Retweets</th>\n",
       "      <th>Geo</th>\n",
       "      <th>Coordinates</th>\n",
       "      <th>Place</th>\n",
       "    </tr>\n",
       "  </thead>\n",
       "  <tbody>\n",
       "    <tr>\n",
       "      <th>0</th>\n",
       "      <td>Coronavirus deaths are way down. Mortality rat...</td>\n",
       "      <td>190</td>\n",
       "      <td>1276363261957603328</td>\n",
       "      <td>realDonaldTrump</td>\n",
       "      <td>Donald J. Trump</td>\n",
       "      <td>Washington, DC</td>\n",
       "      <td>None</td>\n",
       "      <td>2020-06-26 03:54:49</td>\n",
       "      <td>Twitter for iPhone</td>\n",
       "      <td>199940</td>\n",
       "      <td>43196</td>\n",
       "      <td>None</td>\n",
       "      <td>None</td>\n",
       "      <td>None</td>\n",
       "    </tr>\n",
       "    <tr>\n",
       "      <th>1</th>\n",
       "      <td>COVID-19 victim's body carried in an earthmove...</td>\n",
       "      <td>99</td>\n",
       "      <td>1276545757047222272</td>\n",
       "      <td>thenewsminute</td>\n",
       "      <td>The News Minute</td>\n",
       "      <td>Bengaluru</td>\n",
       "      <td>None</td>\n",
       "      <td>2020-06-26 16:00:00</td>\n",
       "      <td>TweetDeck</td>\n",
       "      <td>5</td>\n",
       "      <td>10</td>\n",
       "      <td>None</td>\n",
       "      <td>None</td>\n",
       "      <td>None</td>\n",
       "    </tr>\n",
       "    <tr>\n",
       "      <th>2</th>\n",
       "      <td>Never in the history of American politics has ...</td>\n",
       "      <td>255</td>\n",
       "      <td>1276621006774448134</td>\n",
       "      <td>RealCandaceO</td>\n",
       "      <td>Candace Owens</td>\n",
       "      <td>New York, USA</td>\n",
       "      <td>None</td>\n",
       "      <td>2020-06-26 20:59:01</td>\n",
       "      <td>Twitter for iPhone</td>\n",
       "      <td>55960</td>\n",
       "      <td>15899</td>\n",
       "      <td>None</td>\n",
       "      <td>None</td>\n",
       "      <td>None</td>\n",
       "    </tr>\n",
       "  </tbody>\n",
       "</table>\n",
       "</div>"
      ],
      "text/plain": [
       "                                              Tweets  len  \\\n",
       "0  Coronavirus deaths are way down. Mortality rat...  190   \n",
       "1  COVID-19 victim's body carried in an earthmove...   99   \n",
       "2  Never in the history of American politics has ...  255   \n",
       "\n",
       "                    ID             USER         userName   User Location  \\\n",
       "0  1276363261957603328  realDonaldTrump  Donald J. Trump  Washington, DC   \n",
       "1  1276545757047222272    thenewsminute  The News Minute       Bengaluru   \n",
       "2  1276621006774448134     RealCandaceO    Candace Owens   New York, USA   \n",
       "\n",
       "  Language                Date              Source   Likes  Retweets   Geo  \\\n",
       "0     None 2020-06-26 03:54:49  Twitter for iPhone  199940     43196  None   \n",
       "1     None 2020-06-26 16:00:00           TweetDeck       5        10  None   \n",
       "2     None 2020-06-26 20:59:01  Twitter for iPhone   55960     15899  None   \n",
       "\n",
       "  Coordinates Place  \n",
       "0        None  None  \n",
       "1        None  None  \n",
       "2        None  None  "
      ]
     },
     "execution_count": 16,
     "metadata": {},
     "output_type": "execute_result"
    }
   ],
   "source": [
    "tweets_df.head(3)"
   ]
  },
  {
   "cell_type": "markdown",
   "metadata": {},
   "source": [
    "### Identificar Top Tweets coletados"
   ]
  },
  {
   "cell_type": "code",
   "execution_count": 17,
   "metadata": {},
   "outputs": [
    {
     "name": "stdout",
     "output_type": "stream",
     "text": [
      "O tweet com mais curtidas (likes) é: \n",
      "Actually you just got ROCKED by teens on TikTok who flooded the Trump campaign w/ fake ticket reservations &amp; tricked you into believing a million people wanted your white supremacist open mic enough to pack an arena during COVID  Shout out to Zoomers. Y’all make me so proud. ☺️ https://t.co/jGrp5bSZ9T\n",
      "Número de curtidas: 615151\n"
     ]
    }
   ],
   "source": [
    "# Tweets com maior número de LIKES\n",
    "likes_max = np.max(tweets_df['Likes']) #Função max do numpy identifica o valor máximo\n",
    "\n",
    "likes = tweets_df[tweets_df.Likes == likes_max].index[0] #pega o primeiro tweet com valor máximo de curtidas\n",
    "\n",
    "print(\"O tweet com mais curtidas (likes) é: \\n{}\".format(tweets_df['Tweets'][likes]))\n",
    "print(\"Número de curtidas: {}\".format(likes_max))\n"
   ]
  },
  {
   "cell_type": "code",
   "execution_count": 18,
   "metadata": {},
   "outputs": [
    {
     "name": "stdout",
     "output_type": "stream",
     "text": [
      "1\n"
     ]
    }
   ],
   "source": [
    "print(np.sum(tweets_df['Likes'] == likes_max)) #conta quantos tweets possuem o mesmo valor máximo de curtidas"
   ]
  },
  {
   "cell_type": "code",
   "execution_count": 19,
   "metadata": {},
   "outputs": [
    {
     "name": "stdout",
     "output_type": "stream",
     "text": [
      "O tweet com mais retweet é: \n",
      "Actually you just got ROCKED by teens on TikTok who flooded the Trump campaign w/ fake ticket reservations &amp; tricked you into believing a million people wanted your white supremacist open mic enough to pack an arena during COVID  Shout out to Zoomers. Y’all make me so proud. ☺️ https://t.co/jGrp5bSZ9T\n",
      "Número de retweets: 115937\n"
     ]
    }
   ],
   "source": [
    "retweet_max  = np.max(tweets_df['Retweets']) #retorna o valor máximo\n",
    "\n",
    "retweet  = tweets_df[tweets_df.Retweets == retweet_max].index[0] #pega o primeiro tweet com valor máximo de Retweets\n",
    "\n",
    "print(\"O tweet com mais retweet é: \\n{}\".format(tweets_df['Tweets'][retweet]))\n",
    "print(\"Número de retweets: {}\".format(retweet_max))"
   ]
  },
  {
   "cell_type": "code",
   "execution_count": 20,
   "metadata": {},
   "outputs": [
    {
     "name": "stdout",
     "output_type": "stream",
     "text": [
      "1\n"
     ]
    }
   ],
   "source": [
    "print(np.sum(tweets_df['Retweets'] == retweet_max)) #conta quantos tweets possuem o mesmo valor máximo de Retweets"
   ]
  },
  {
   "cell_type": "markdown",
   "metadata": {},
   "source": [
    "### Identifica a fonte(origem) do tweet"
   ]
  },
  {
   "cell_type": "markdown",
   "metadata": {},
   "source": [
    "A fonte neste caso é o app ou dispositivo onde o usuário postou o tweet"
   ]
  },
  {
   "cell_type": "code",
   "execution_count": 21,
   "metadata": {},
   "outputs": [],
   "source": [
    "sources = [] #lista para armazenar a fontes\n",
    "for source in tweets_df['Source']:\n",
    "    if source not in sources:\n",
    "        sources.append(source) #inclui no vetor sources apenas se a fonte encontrada ainda não foi incluída\n",
    "\n",
    "percent = np.zeros(len(sources)) #Retorna um novo vetor, com o número de elementos do vetor sources, preenchido com zeros a new array filled with zeros, for\n",
    "\n",
    "for source in tweets_df['Source']:\n",
    "    for index in range(len(sources)):\n",
    "        if source == sources[index]:\n",
    "            percent[index] += 1\n",
    "            pass"
   ]
  },
  {
   "cell_type": "markdown",
   "metadata": {},
   "source": [
    "##### Gráfico que exibe o número de tweets por fonte"
   ]
  },
  {
   "cell_type": "code",
   "execution_count": 22,
   "metadata": {},
   "outputs": [
    {
     "data": {
      "text/html": [
       "<div>\n",
       "<style scoped>\n",
       "    .dataframe tbody tr th:only-of-type {\n",
       "        vertical-align: middle;\n",
       "    }\n",
       "\n",
       "    .dataframe tbody tr th {\n",
       "        vertical-align: top;\n",
       "    }\n",
       "\n",
       "    .dataframe thead th {\n",
       "        text-align: right;\n",
       "    }\n",
       "</style>\n",
       "<table border=\"1\" class=\"dataframe\">\n",
       "  <thead>\n",
       "    <tr style=\"text-align: right;\">\n",
       "      <th></th>\n",
       "      <th>source</th>\n",
       "    </tr>\n",
       "  </thead>\n",
       "  <tbody>\n",
       "    <tr>\n",
       "      <th>Twitter for iPhone</th>\n",
       "      <td>25.0</td>\n",
       "    </tr>\n",
       "    <tr>\n",
       "      <th>TweetDeck</th>\n",
       "      <td>7.0</td>\n",
       "    </tr>\n",
       "    <tr>\n",
       "      <th>Sprinklr</th>\n",
       "      <td>2.0</td>\n",
       "    </tr>\n",
       "    <tr>\n",
       "      <th>SocialFlow</th>\n",
       "      <td>8.0</td>\n",
       "    </tr>\n",
       "    <tr>\n",
       "      <th>Twitter Web App</th>\n",
       "      <td>32.0</td>\n",
       "    </tr>\n",
       "    <tr>\n",
       "      <th>Twitter for iPad</th>\n",
       "      <td>4.0</td>\n",
       "    </tr>\n",
       "    <tr>\n",
       "      <th>Twitter for Android</th>\n",
       "      <td>6.0</td>\n",
       "    </tr>\n",
       "    <tr>\n",
       "      <th>Twitter Media Studio</th>\n",
       "      <td>3.0</td>\n",
       "    </tr>\n",
       "    <tr>\n",
       "      <th>Sprout Social</th>\n",
       "      <td>1.0</td>\n",
       "    </tr>\n",
       "    <tr>\n",
       "      <th>TweetCaster for iOS</th>\n",
       "      <td>1.0</td>\n",
       "    </tr>\n",
       "    <tr>\n",
       "      <th>Echobox</th>\n",
       "      <td>1.0</td>\n",
       "    </tr>\n",
       "    <tr>\n",
       "      <th>Hootsuite Inc.</th>\n",
       "      <td>1.0</td>\n",
       "    </tr>\n",
       "  </tbody>\n",
       "</table>\n",
       "</div>"
      ],
      "text/plain": [
       "                      source\n",
       "Twitter for iPhone      25.0\n",
       "TweetDeck                7.0\n",
       "Sprinklr                 2.0\n",
       "SocialFlow               8.0\n",
       "Twitter Web App         32.0\n",
       "Twitter for iPad         4.0\n",
       "Twitter for Android      6.0\n",
       "Twitter Media Studio     3.0\n",
       "Sprout Social            1.0\n",
       "TweetCaster for iOS      1.0\n",
       "Echobox                  1.0\n",
       "Hootsuite Inc.           1.0"
      ]
     },
     "execution_count": 22,
     "metadata": {},
     "output_type": "execute_result"
    }
   ],
   "source": [
    "sourceDF = pd.DataFrame({\n",
    " 'source':percent,\n",
    "}, index=sources)\n",
    "\n",
    "sourceDF"
   ]
  },
  {
   "cell_type": "code",
   "execution_count": 23,
   "metadata": {},
   "outputs": [
    {
     "data": {
      "image/png": "[encoded data removed]",
      "text/plain": [
       "<Figure size 432x288 with 1 Axes>"
      ]
     },
     "metadata": {
      "needs_background": "light"
     },
     "output_type": "display_data"
    }
   ],
   "source": [
    "sources_sorted = sourceDF.sort_values('source',ascending=True)\n",
    "ax = sources_sorted.source.plot(kind='barh',color='#A52A2A')\n",
    "ax.get_xaxis().set_major_formatter(plt.FuncFormatter(lambda x, loc: \"{:,}\".format(int(x))))"
   ]
  },
  {
   "cell_type": "code",
   "execution_count": 24,
   "metadata": {},
   "outputs": [
    {
     "data": {
      "image/png": "[encoded data removed]",
      "text/plain": [
       "<Figure size 432x288 with 1 Axes>"
      ]
     },
     "metadata": {
      "needs_background": "light"
     },
     "output_type": "display_data"
    }
   ],
   "source": [
    "sources_sorted = sourceDF.sort_values('source',ascending=False)\n",
    "ax = sources_sorted.source.plot(kind='barh',color='#B8860B')\n",
    "ax.get_xaxis().set_major_formatter(plt.FuncFormatter(lambda x, loc: \"{:,}\".format(int(x))))"
   ]
  },
  {
   "cell_type": "markdown",
   "metadata": {},
   "source": [
    "**Dica:** \n",
    "Veja relação de cores em HTML em:\n",
    "* https://www.w3schools.com/tags/ref_colornames.asp"
   ]
  },
  {
   "cell_type": "markdown",
   "metadata": {},
   "source": [
    "## <font color=red>Análise de polaridade:</font>"
   ]
  },
  {
   "cell_type": "code",
   "execution_count": 25,
   "metadata": {},
   "outputs": [],
   "source": [
    "#Variável que irá armazenar as polaridades\n",
    "analysis = None"
   ]
  },
  {
   "cell_type": "code",
   "execution_count": 26,
   "metadata": {},
   "outputs": [],
   "source": [
    "# Lista vazia para armazenar as polaridades\n",
    "polarities = []"
   ]
  },
  {
   "cell_type": "code",
   "execution_count": 27,
   "metadata": {},
   "outputs": [
    {
     "data": {
      "text/html": [
       "<div>\n",
       "<style scoped>\n",
       "    .dataframe tbody tr th:only-of-type {\n",
       "        vertical-align: middle;\n",
       "    }\n",
       "\n",
       "    .dataframe tbody tr th {\n",
       "        vertical-align: top;\n",
       "    }\n",
       "\n",
       "    .dataframe thead th {\n",
       "        text-align: right;\n",
       "    }\n",
       "</style>\n",
       "<table border=\"1\" class=\"dataframe\">\n",
       "  <thead>\n",
       "    <tr style=\"text-align: right;\">\n",
       "      <th></th>\n",
       "      <th>Tweets</th>\n",
       "      <th>len</th>\n",
       "      <th>ID</th>\n",
       "      <th>USER</th>\n",
       "      <th>userName</th>\n",
       "      <th>User Location</th>\n",
       "      <th>Language</th>\n",
       "      <th>Date</th>\n",
       "      <th>Source</th>\n",
       "      <th>Likes</th>\n",
       "      <th>Retweets</th>\n",
       "      <th>Geo</th>\n",
       "      <th>Coordinates</th>\n",
       "      <th>Place</th>\n",
       "    </tr>\n",
       "  </thead>\n",
       "  <tbody>\n",
       "    <tr>\n",
       "      <th>0</th>\n",
       "      <td>Coronavirus deaths are way down. Mortality rat...</td>\n",
       "      <td>190</td>\n",
       "      <td>1276363261957603328</td>\n",
       "      <td>realDonaldTrump</td>\n",
       "      <td>Donald J. Trump</td>\n",
       "      <td>Washington, DC</td>\n",
       "      <td>None</td>\n",
       "      <td>2020-06-26 03:54:49</td>\n",
       "      <td>Twitter for iPhone</td>\n",
       "      <td>199940</td>\n",
       "      <td>43196</td>\n",
       "      <td>None</td>\n",
       "      <td>None</td>\n",
       "      <td>None</td>\n",
       "    </tr>\n",
       "  </tbody>\n",
       "</table>\n",
       "</div>"
      ],
      "text/plain": [
       "                                              Tweets  len  \\\n",
       "0  Coronavirus deaths are way down. Mortality rat...  190   \n",
       "\n",
       "                    ID             USER         userName   User Location  \\\n",
       "0  1276363261957603328  realDonaldTrump  Donald J. Trump  Washington, DC   \n",
       "\n",
       "  Language                Date              Source   Likes  Retweets   Geo  \\\n",
       "0     None 2020-06-26 03:54:49  Twitter for iPhone  199940     43196  None   \n",
       "\n",
       "  Coordinates Place  \n",
       "0        None  None  "
      ]
     },
     "execution_count": 27,
     "metadata": {},
     "output_type": "execute_result"
    }
   ],
   "source": [
    "tweets_df.head(1)"
   ]
  },
  {
   "cell_type": "markdown",
   "metadata": {},
   "source": [
    "##### Calcula polaridade (sentiment.polarity)"
   ]
  },
  {
   "cell_type": "code",
   "execution_count": 28,
   "metadata": {},
   "outputs": [],
   "source": [
    "for tweet in tweets_df['Tweets']: #para cada tweet    \n",
    "    analysis = tb(tweet)   \n",
    "    \n",
    "    polarity = analysis.sentiment.polarity #analisa a polaridade\n",
    "\n",
    "    polarities.append(polarity)"
   ]
  },
  {
   "cell_type": "markdown",
   "metadata": {},
   "source": [
    "**ou**"
   ]
  },
  {
   "cell_type": "code",
   "execution_count": null,
   "metadata": {},
   "outputs": [],
   "source": [
    "for tweet in tweets_df['Tweets']: #para cada tweet    \n",
    "    #analysis = tb(tweet)   \n",
    "   \n",
    "    polarity = tb(tweet).sentiment.polarity #analisa a polaridade\n",
    "\n",
    "    polarities.append(polarity)"
   ]
  },
  {
   "cell_type": "code",
   "execution_count": 29,
   "metadata": {},
   "outputs": [
    {
     "data": {
      "text/html": [
       "<div>\n",
       "<style scoped>\n",
       "    .dataframe tbody tr th:only-of-type {\n",
       "        vertical-align: middle;\n",
       "    }\n",
       "\n",
       "    .dataframe tbody tr th {\n",
       "        vertical-align: top;\n",
       "    }\n",
       "\n",
       "    .dataframe thead th {\n",
       "        text-align: right;\n",
       "    }\n",
       "</style>\n",
       "<table border=\"1\" class=\"dataframe\">\n",
       "  <thead>\n",
       "    <tr style=\"text-align: right;\">\n",
       "      <th></th>\n",
       "      <th>Tweets</th>\n",
       "      <th>len</th>\n",
       "      <th>ID</th>\n",
       "      <th>USER</th>\n",
       "      <th>userName</th>\n",
       "      <th>User Location</th>\n",
       "      <th>Language</th>\n",
       "      <th>Date</th>\n",
       "      <th>Source</th>\n",
       "      <th>Likes</th>\n",
       "      <th>Retweets</th>\n",
       "      <th>Geo</th>\n",
       "      <th>Coordinates</th>\n",
       "      <th>Place</th>\n",
       "    </tr>\n",
       "  </thead>\n",
       "  <tbody>\n",
       "    <tr>\n",
       "      <th>0</th>\n",
       "      <td>Coronavirus deaths are way down. Mortality rat...</td>\n",
       "      <td>190</td>\n",
       "      <td>1276363261957603328</td>\n",
       "      <td>realDonaldTrump</td>\n",
       "      <td>Donald J. Trump</td>\n",
       "      <td>Washington, DC</td>\n",
       "      <td>None</td>\n",
       "      <td>2020-06-26 03:54:49</td>\n",
       "      <td>Twitter for iPhone</td>\n",
       "      <td>199940</td>\n",
       "      <td>43196</td>\n",
       "      <td>None</td>\n",
       "      <td>None</td>\n",
       "      <td>None</td>\n",
       "    </tr>\n",
       "    <tr>\n",
       "      <th>1</th>\n",
       "      <td>COVID-19 victim's body carried in an earthmove...</td>\n",
       "      <td>99</td>\n",
       "      <td>1276545757047222272</td>\n",
       "      <td>thenewsminute</td>\n",
       "      <td>The News Minute</td>\n",
       "      <td>Bengaluru</td>\n",
       "      <td>None</td>\n",
       "      <td>2020-06-26 16:00:00</td>\n",
       "      <td>TweetDeck</td>\n",
       "      <td>5</td>\n",
       "      <td>10</td>\n",
       "      <td>None</td>\n",
       "      <td>None</td>\n",
       "      <td>None</td>\n",
       "    </tr>\n",
       "    <tr>\n",
       "      <th>2</th>\n",
       "      <td>Never in the history of American politics has ...</td>\n",
       "      <td>255</td>\n",
       "      <td>1276621006774448134</td>\n",
       "      <td>RealCandaceO</td>\n",
       "      <td>Candace Owens</td>\n",
       "      <td>New York, USA</td>\n",
       "      <td>None</td>\n",
       "      <td>2020-06-26 20:59:01</td>\n",
       "      <td>Twitter for iPhone</td>\n",
       "      <td>55960</td>\n",
       "      <td>15899</td>\n",
       "      <td>None</td>\n",
       "      <td>None</td>\n",
       "      <td>None</td>\n",
       "    </tr>\n",
       "  </tbody>\n",
       "</table>\n",
       "</div>"
      ],
      "text/plain": [
       "                                              Tweets  len  \\\n",
       "0  Coronavirus deaths are way down. Mortality rat...  190   \n",
       "1  COVID-19 victim's body carried in an earthmove...   99   \n",
       "2  Never in the history of American politics has ...  255   \n",
       "\n",
       "                    ID             USER         userName   User Location  \\\n",
       "0  1276363261957603328  realDonaldTrump  Donald J. Trump  Washington, DC   \n",
       "1  1276545757047222272    thenewsminute  The News Minute       Bengaluru   \n",
       "2  1276621006774448134     RealCandaceO    Candace Owens   New York, USA   \n",
       "\n",
       "  Language                Date              Source   Likes  Retweets   Geo  \\\n",
       "0     None 2020-06-26 03:54:49  Twitter for iPhone  199940     43196  None   \n",
       "1     None 2020-06-26 16:00:00           TweetDeck       5        10  None   \n",
       "2     None 2020-06-26 20:59:01  Twitter for iPhone   55960     15899  None   \n",
       "\n",
       "  Coordinates Place  \n",
       "0        None  None  \n",
       "1        None  None  \n",
       "2        None  None  "
      ]
     },
     "execution_count": 29,
     "metadata": {},
     "output_type": "execute_result"
    }
   ],
   "source": [
    "tweets_df.head(3)"
   ]
  },
  {
   "cell_type": "code",
   "execution_count": 30,
   "metadata": {},
   "outputs": [
    {
     "name": "stdout",
     "output_type": "stream",
     "text": [
      "Vetor de polaridade: [-0.07777777777777779, -0.07500000000000001, 0.009523809523809526, 0.0, 0.0, 0.05333333333333334, -0.3333333333333333, 0.3, -0.19999999999999998, 0.0, -0.2, 0.0, 0.0, -0.125, 0.30000000000000004, 0.0, 0.3333333333333333, 0.0, 0.0, -0.35, 0.0, -0.18181818181818182, 0.11468253968253969, 0.24675324675324675, 0.26633522727272724, -0.2, 0.0, -1.0, 0.05, 0.20000000000000004, -0.12676767676767678, -0.1638888888888889, 0.1481818181818182, 0.0, -0.4222222222222222, 0.15, 0.11363636363636363, -0.075, -0.09999999999999998, 0.16666666666666666, 0.13636363636363635, 0.07575757575757576, 0.0, -0.03333333333333333, -0.05, 0.0, -0.125, -0.08333333333333333, -0.031111111111111128, -0.003409090909090917, 0.05000000000000001, 0.05714285714285716, 0.08333333333333334, -0.3453703703703704, 0.23142857142857146, 0.0, -0.16875, -0.05, -0.33809523809523806, 0.0, 0.20134680134680136, 0.1, 0.1875, -0.07222222222222222, 0.14285714285714285, 0.1625, -0.225, 0.0, 0.5, 0.5125, 0.056818181818181816, -0.0851851851851852, -0.35, 0.012121212121212116, 0.0, 0.0, 0.16666666666666666, -0.0625, 0.061111111111111095, 0.0, 0.0, -0.06666666666666667, 0.0, 0.0909090909090909, -0.2916666666666667, 0.2375, 0.0, 0.225, 0.17045454545454544, -0.25, 0.0]\n"
     ]
    }
   ],
   "source": [
    "print('Vetor de polaridade:',polarities)"
   ]
  },
  {
   "cell_type": "markdown",
   "metadata": {},
   "source": [
    "## <font color=red>Análise de Sentimentos:</font>"
   ]
  },
  {
   "cell_type": "code",
   "execution_count": 31,
   "metadata": {},
   "outputs": [
    {
     "name": "stdout",
     "output_type": "stream",
     "text": [
      "Para a(s) palavra(s):\"covid-19  OR  covid  OR  coronavirus OR pandemic\"\n",
      "A MÉDIA DE SENTIMENTO É: -0.0038318047693047747\n"
     ]
    }
   ],
   "source": [
    "print('Para a(s) palavra(s):\"%s\"' % keyword)\n",
    "print('A MÉDIA DE SENTIMENTO É: ' + str(np.mean(polarities)))"
   ]
  },
  {
   "cell_type": "code",
   "execution_count": 32,
   "metadata": {},
   "outputs": [],
   "source": [
    "positive = 0\n",
    "negative = 0\n",
    "neutral = 0\n",
    "\n",
    "for polarity in polarities:\n",
    "    if polarity > 0:\n",
    "        positive = positive+1\n",
    "    elif polarity < 0:\n",
    "        negative = negative+1\n",
    "    else:\n",
    "        neutral = neutral+1                           "
   ]
  },
  {
   "cell_type": "code",
   "execution_count": 33,
   "metadata": {},
   "outputs": [
    {
     "name": "stdout",
     "output_type": "stream",
     "text": [
      "Tweets Positivos: 35\n",
      "Tweets Negativos: 33\n",
      "Tweets Neutros: 23\n"
     ]
    }
   ],
   "source": [
    "print(\"Tweets Positivos: %s\" % positive)\n",
    "print(\"Tweets Negativos: %s\" % negative)\n",
    "print(\"Tweets Neutros: %s\" % neutral)"
   ]
  },
  {
   "cell_type": "code",
   "execution_count": 34,
   "metadata": {},
   "outputs": [],
   "source": [
    "#calcula percentual\n",
    "pos_pct=positive*100/len(polarities)\n",
    "neg_pct=negative*100/len(polarities)\n",
    "neu_pct=neutral*100/len(polarities)"
   ]
  },
  {
   "cell_type": "code",
   "execution_count": 35,
   "metadata": {},
   "outputs": [],
   "source": [
    "sentiments = ['Positivos', 'Negativos','Neutros']\n",
    "percents = [pos_pct, neg_pct, neu_pct]"
   ]
  },
  {
   "cell_type": "code",
   "execution_count": 36,
   "metadata": {},
   "outputs": [
    {
     "data": {
      "image/png": "[encoded data removed]",
      "text/plain": [
       "<Figure size 360x360 with 1 Axes>"
      ]
     },
     "metadata": {},
     "output_type": "display_data"
    }
   ],
   "source": [
    "pie_chart = pd.Series(percents, index=sentiments,name='Sentimentos')\n",
    "pie_chart.plot.pie(fontsize=12, autopct='%.2f', figsize=(5, 5),title=\"Análise de Sentimentos tweets\");"
   ]
  },
  {
   "cell_type": "code",
   "execution_count": 37,
   "metadata": {},
   "outputs": [
    {
     "data": {
      "image/png": "[encoded data removed]",
      "text/plain": [
       "<Figure size 504x504 with 1 Axes>"
      ]
     },
     "metadata": {},
     "output_type": "display_data"
    }
   ],
   "source": [
    "#ax1.pie(sizes, explode=explode, labels=labels, autopct='%1.1f%%',        shadow=True, startangle=90)\n",
    "explode = (0.1, 0, 0) #Separa o primeiro\n",
    "\n",
    "pie_chart = pd.Series(percents, index=sentiments,name='')\n",
    "pie_chart.plot.pie(fontsize=12, explode=explode, autopct='%.2f%%', shadow=True, figsize=(7, 7),title=\"Análise de Sentimentos tweets\");"
   ]
  },
  {
   "cell_type": "markdown",
   "metadata": {},
   "source": [
    "**Dica:**\n",
    "Veja a documentação do pacote *Matplotlib* no link:\n",
    "* https://matplotlib.org/3.1.1/contents.html#"
   ]
  },
  {
   "cell_type": "markdown",
   "metadata": {},
   "source": [
    "### <font color=blue>Mapa de calor dos tweets</font>"
   ]
  },
  {
   "cell_type": "code",
   "execution_count": 38,
   "metadata": {},
   "outputs": [],
   "source": [
    "geolocator = Nominatim(user_agent=\"TweeterSentiments\")\n",
    "\n",
    "latitude = []\n",
    "longitude = []\n",
    "\n",
    "for user_location in tweets_df['User Location']:\n",
    "    try:\n",
    "        location = geolocator.geocode(user_location)\n",
    "        latitude.append(location.latitude)\n",
    "        longitude.append(location.longitude)\n",
    "    except:\n",
    "        continue"
   ]
  },
  {
   "cell_type": "markdown",
   "metadata": {},
   "source": [
    "**Dica:** Veja a documentação da função *Nominatim* no link:\n",
    "\n",
    "* https://geopy.readthedocs.io/en/stable/#nominatim"
   ]
  },
  {
   "cell_type": "code",
   "execution_count": 39,
   "metadata": {},
   "outputs": [
    {
     "data": {
      "text/html": [
       "<div style=\"width:100%;\"><div style=\"position:relative;width:100%;height:0;padding-bottom:60%;\"><span style=\"color:#565656\">Make this Notebook Trusted to load map: File -> Trust Notebook</span><iframe src=\"about:blank\" style=\"position:absolute;width:100%;height:100%;left:0;top:0;border:none !important;\" data-html=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 onload=\"this.contentDocument.open();this.contentDocument.write(atob(this.getAttribute('data-html')));this.contentDocument.close();\" allowfullscreen webkitallowfullscreen mozallowfullscreen></iframe></div></div>"
      ],
      "text/plain": [
       "<folium.folium.Map at 0x11cb04cacf8>"
      ]
     },
     "execution_count": 39,
     "metadata": {},
     "output_type": "execute_result"
    }
   ],
   "source": [
    "coordenadas = np.column_stack((latitude, longitude))\n",
    "\n",
    "mapa = folium.Map(zoom_start=3.)\n",
    "mapa.add_child(plugins.HeatMap(coordenadas))\n",
    "mapa.save('covid.html')\n",
    "mapa"
   ]
  },
  {
   "cell_type": "markdown",
   "metadata": {},
   "source": [
    "**Dica:** Para conhecer o pacote Folium veja os links:\n",
    "* https://python-visualization.github.io/folium/\n",
    "* https://medium.com/@datalivre/folium-d6036a9ad29c"
   ]
  },
  {
   "cell_type": "markdown",
   "metadata": {},
   "source": [
    "### <font color=blue>Nuvem de palavras</font>"
   ]
  },
  {
   "cell_type": "code",
   "execution_count": 40,
   "metadata": {},
   "outputs": [],
   "source": [
    "words = ' '.join(tweets_df['Tweets'])\n",
    "\n",
    "words_clean = \" \".join([word for word in words.split()\n",
    "                            if 'https' not in word\n",
    "                                and not word.startswith('@')\n",
    "                                and word != 'RT'\n",
    "                            ])"
   ]
  },
  {
   "cell_type": "markdown",
   "metadata": {},
   "source": [
    "**OBSERVAÇÃO:**\n",
    "Antes de importar o pacote imread faça a intalação do mesmo."
   ]
  },
  {
   "cell_type": "code",
   "execution_count": 41,
   "metadata": {},
   "outputs": [
    {
     "data": {
      "image/png": "[encoded data removed]",
      "text/plain": [
       "<Figure size 432x288 with 1 Axes>"
      ]
     },
     "metadata": {
      "needs_background": "light"
     },
     "output_type": "display_data"
    }
   ],
   "source": [
    "import warnings\n",
    "\n",
    "warnings.simplefilter('ignore')\n",
    "\n",
    "wc = WordCloud(min_font_size=10, \n",
    "               max_font_size=300, \n",
    "               background_color='white', \n",
    "               mode=\"RGB\",\n",
    "               width=2000, \n",
    "               height=1000,\n",
    "               normalize_plurals= True).generate(words_clean)\n",
    "\n",
    "plt.imshow(wc, interpolation=\"bilinear\")\n",
    "plt.axis(\"off\")\n",
    "plt.savefig('covid_clound.png', dpi=300)\n",
    "plt.show()"
   ]
  },
  {
   "cell_type": "markdown",
   "metadata": {},
   "source": [
    "**Dica:** Para conhecer o pacote WordCloud veja os links:\n",
    "* https://amueller.github.io/word_cloud/index.html\n",
    "* Exemplos: https://amueller.github.io/word_cloud/auto_examples/index.html#example-gallery"
   ]
  },
  {
   "cell_type": "code",
   "execution_count": null,
   "metadata": {},
   "outputs": [],
   "source": [
    "wc = WordCloud(min_font_size=10, \n",
    "               max_font_size=300, \n",
    "               background_color='black', #cor de fundo\n",
    "               mode=\"RGB\",\n",
    "               width=2000, \n",
    "               height=1000,\n",
    "               normalize_plurals= True).generate(words_clean)\n",
    "\n",
    "plt.imshow(wc, interpolation=\"bilinear\")\n",
    "plt.axis(\"off\")\n",
    "#plt.savefig('covid_clound.png', dpi=300)\n",
    "plt.show()"
   ]
  },
  {
   "cell_type": "markdown",
   "metadata": {},
   "source": [
    "#####  Para texto em português, use o exemplo abaixo:"
   ]
  },
  {
   "cell_type": "code",
   "execution_count": null,
   "metadata": {},
   "outputs": [],
   "source": [
    "stopwords= set(STOPWORDS)\n",
    "\n",
    "new_words = []\n",
    "with open(\"stopwords_pt.txt\", 'r') as f:\n",
    "    [new_words.append(word) for line in f for word in line.split()]\n",
    "\n",
    "new_stopwords = stopwords.union(new_words)\n",
    "\n",
    "words = ' '.join(tweets_df['Tweets'])\n",
    "\n",
    "words_clean = \" \".join([word for word in words.split()\n",
    "                            if 'https' not in word\n",
    "                                and not word.startswith('@')\n",
    "                                and word != 'RT'\n",
    "                            ])\n",
    "\n",
    "warnings.simplefilter('ignore')\n",
    "\n",
    "wc = WordCloud(min_font_size=10, \n",
    "               max_font_size=300, \n",
    "               background_color='white', \n",
    "               mode=\"RGB\",\n",
    "               stopwords=new_stopwords,\n",
    "               width=2000, \n",
    "               height=1000,\n",
    "               normalize_plurals= True).generate(words_clean)\n",
    "\n",
    "plt.imshow(wc, interpolation=\"bilinear\")\n",
    "plt.axis(\"off\")\n",
    "plt.savefig('covid_clound_pt.png', dpi=300)\n",
    "plt.show()"
   ]
  },
  {
   "cell_type": "markdown",
   "metadata": {},
   "source": [
    "### <font color=blue>Análise temporal dos tweets</font> "
   ]
  },
  {
   "cell_type": "code",
   "execution_count": null,
   "metadata": {},
   "outputs": [],
   "source": [
    "#Tweets postados por dia\n",
    "data = tweets_df"
   ]
  },
  {
   "cell_type": "code",
   "execution_count": null,
   "metadata": {},
   "outputs": [],
   "source": [
    "print(data['Date'][0])"
   ]
  },
  {
   "cell_type": "code",
   "execution_count": null,
   "metadata": {},
   "outputs": [],
   "source": [
    "from datetime import datetime"
   ]
  },
  {
   "cell_type": "code",
   "execution_count": null,
   "metadata": {},
   "outputs": [],
   "source": [
    "#Tweets postados por dia\n",
    "data = tweets_df\n",
    "\n",
    "print(data['Date'][0])\n",
    "\n",
    "data['Date'] = pd.to_datetime(data['Date']).apply(lambda x: x.date())\n",
    "\n",
    "print(data['Date'][0])"
   ]
  },
  {
   "cell_type": "code",
   "execution_count": null,
   "metadata": {},
   "outputs": [],
   "source": [
    "x = data['Date'].value_counts() #conta a quantidade de tweets por dia\n",
    "x"
   ]
  },
  {
   "cell_type": "code",
   "execution_count": null,
   "metadata": {},
   "outputs": [],
   "source": [
    "tlen = pd.Series(data['Date'].value_counts(), index=data['Date'])\n",
    "\n",
    "tlen.plot(figsize=(16,4), color='r');"
   ]
  },
  {
   "cell_type": "markdown",
   "metadata": {},
   "source": [
    "## <font color=red>Text Mining com o pacote NLTK</font>"
   ]
  },
  {
   "cell_type": "markdown",
   "metadata": {},
   "source": [
    "Para conhecer o pacote *NLTK* veja a documentação completa em:\n",
    "* https://www.nltk.org/index.html"
   ]
  },
  {
   "cell_type": "markdown",
   "metadata": {},
   "source": [
    "**Desgustação**"
   ]
  },
  {
   "cell_type": "code",
   "execution_count": null,
   "metadata": {},
   "outputs": [],
   "source": [
    "from nltk.tokenize import TweetTokenizer\n",
    "\n",
    "tweet_tokenizer = TweetTokenizer(preserve_case=False, strip_handles=True, reduce_len=True)"
   ]
  },
  {
   "cell_type": "code",
   "execution_count": null,
   "metadata": {},
   "outputs": [],
   "source": [
    "tweets_tokens = [] #lista para armazenar os tokens"
   ]
  },
  {
   "cell_type": "code",
   "execution_count": null,
   "metadata": {},
   "outputs": [],
   "source": [
    "for tweet in tweets_df['Tweets']:   \n",
    "    print (tweet_tokenizer.tokenize(tweet))\n",
    "    tweets_tokens.append(tweet_tokenizer.tokenize(tweet))"
   ]
  },
  {
   "cell_type": "markdown",
   "metadata": {},
   "source": [
    "#### Limpar tokens"
   ]
  },
  {
   "cell_type": "code",
   "execution_count": null,
   "metadata": {},
   "outputs": [],
   "source": [
    "from nltk.corpus import stopwords \n",
    "import string\n",
    " \n",
    "#punctuation = list(string.punctuation)\n",
    "stopwords_english = stopwords.words('english')"
   ]
  },
  {
   "cell_type": "code",
   "execution_count": null,
   "metadata": {},
   "outputs": [],
   "source": [
    "def clean_tweets(tweet):\n",
    "    # remove stock market tickers like $GE\n",
    "    tweet = re.sub(r'\\$\\w*', '', tweet)\n",
    " \n",
    "    # remove old style retweet text \"RT\"\n",
    "    tweet = re.sub(r'^RT[\\s]+', '', tweet)\n",
    " \n",
    "    # remove hyperlinks\n",
    "    tweet = re.sub(r'https?:\\/\\/.*[\\r\\n]*', '', tweet)\n",
    "    \n",
    "    # remove hashtags\n",
    "    # only removing the hash # sign from the word\n",
    "    tweet = re.sub(r'#', '', tweet)\n",
    "    \n",
    "    # tokenize tweets\n",
    "    tokenizer = TweetTokenizer(preserve_case=False, strip_handles=True, reduce_len=True)\n",
    "    tweet_tokens = tokenizer.tokenize(tweet)\n",
    " \n",
    "    tweets_clean = []    \n",
    "    for word in tweet_tokens:\n",
    "        if (word not in stopwords_english and # remove stopwords\n",
    "                word not in string.punctuation): # remove punctuation\n",
    "            tweets_clean.append(word)\n",
    " \n",
    "    return tweets_clean    "
   ]
  },
  {
   "cell_type": "code",
   "execution_count": null,
   "metadata": {},
   "outputs": [],
   "source": [
    "clean_tweets_tokens = [] #lista para armazenar os tokens"
   ]
  },
  {
   "cell_type": "code",
   "execution_count": null,
   "metadata": {},
   "outputs": [],
   "source": [
    "for tweet in tweets_df['Tweets']:   \n",
    "    print (clean_tweets(tweet))\n",
    "    clean_tweets_tokens.append(clean_tweets(tweet))"
   ]
  },
  {
   "cell_type": "markdown",
   "metadata": {},
   "source": [
    "Fim!"
   ]
  }
 ],
 "metadata": {
  "kernelspec": {
   "display_name": "Python 3",
   "language": "python",
   "name": "python3"
  },
  "language_info": {
   "codemirror_mode": {
    "name": "ipython",
    "version": 3
   },
   "file_extension": ".py",
   "mimetype": "text/x-python",
   "name": "python",
   "nbconvert_exporter": "python",
   "pygments_lexer": "ipython3",
   "version": "3.7.1"
  }
 },
 "nbformat": 4,
 "nbformat_minor": 4
}
