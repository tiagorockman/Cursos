{
 "cells": [
  {
   "cell_type": "code",
   "execution_count": 1,
   "metadata": {},
   "outputs": [
    {
     "ename": "SyntaxError",
     "evalue": "invalid syntax (<ipython-input-1-f2500c1281df>, line 5)",
     "output_type": "error",
     "traceback": [
      "\u001b[1;36m  File \u001b[1;32m\"<ipython-input-1-f2500c1281df>\"\u001b[1;36m, line \u001b[1;32m5\u001b[0m\n\u001b[1;33m    import textblob import TextBlob as tb\u001b[0m\n\u001b[1;37m                         ^\u001b[0m\n\u001b[1;31mSyntaxError\u001b[0m\u001b[1;31m:\u001b[0m invalid syntax\n"
     ]
    }
   ],
   "source": [
    "#import pacotes\n",
    "import tweepy\n",
    "import pandas as pd\n",
    "import numpy as np\n",
    "import textblob import TextBlob as tb\n",
    "import time\n",
    "import re\n",
    "\n",
    "#pacotes para visualização \n",
    "import matplotlib.pyplot as plt\n",
    "\n",
    "#mapa\n",
    "from geopy.geocoders import Nominatim\n",
    "import folium\n",
    "from folium import Nominatim\n",
    "from wordCloud import WordCloud, STOPWORDS"
   ]
  },
  {
   "cell_type": "code",
   "execution_count": null,
   "metadata": {},
   "outputs": [],
   "source": [
    "#autenticacao tweet\n",
    "consumer_key = \"w14sE6WOPocTI0ZCmrXMoXLK2\"\n",
    "consumer_secret = \"IChDWYpSXRr5HFGxFKtoSUaEysiiY3LIIKVDrR4twEpk1QSZ9Y\"\n",
    "access_token = \"1574569164-EQGkgTBJhCIRwWPUWjCGZK7pkwV8P6ZKwDz1fSA\"\n",
    "access_token_secret = \"nrppar8dsdmQT1fFcGvYgbeBHu9JvcjIZzjPEpYOuzky8\"\n",
    "\n",
    "auth = tweepy.OAuthHandler(consumer_key, consumer_secret)\n",
    "auth.set_access_token(access_token, access_token_secret)\n",
    "api = tweepy.API(auth, wait_on_rate_limit=True, wait_on_rate_limit_notify=True, netry_count=5)"
   ]
  },
  {
   "cell_type": "code",
   "execution_count": null,
   "metadata": {},
   "outputs": [],
   "source": [
    "#definir listas de armazenamento\n",
    "tweets = []\n",
    "info = []\n",
    "keyword = ('reply')"
   ]
  },
  {
   "cell_type": "code",
   "execution_count": null,
   "metadata": {},
   "outputs": [],
   "source": [
    "#busca por palavra chave\n",
    "for tweet in tweepy.Cursor(api.search,\n",
    "                            q=keyword, tweet_mode='extended',\n",
    "                           rpp=100, result_type=\"popular\", lang='en', #serão solicitados apenas 200 tweet em ingles e popular\n",
    "                           include_entities=True).items(1000):\n",
    "                            #include_entities=True).items(1000);\n",
    "        \n",
    "        if 'retweeted_status' in dir(tweet): #se for retweet pega o fullText\n",
    "            aux=tweet.retweeted_status.full_text\n",
    "        else:\n",
    "            aux=tweet.full_text\n",
    "            \n",
    "        newtweet = aux.replace(\"\\n\", \" \")#onde for \\n substitui por espaco\n",
    "        \n",
    "        tweets.append(newtweet) #adiciona ao vetor\n",
    "        info.append(tweet) #adiciona ao tweet\n",
    "        \n",
    "        #file = open(\"tweets_Keyword_covid_10.txt\", \"a\", -1, \"utf-8\")\n",
    "        file = open(\"tweets_Keyword_covid_Turma4.txt\", \"a\", -1, \"utf-8\")"
   ]
  }
 ],
 "metadata": {
  "kernelspec": {
   "display_name": "Python 3",
   "language": "python",
   "name": "python3"
  },
  "language_info": {
   "codemirror_mode": {
    "name": "ipython",
    "version": 3
   },
   "file_extension": ".py",
   "mimetype": "text/x-python",
   "name": "python",
   "nbconvert_exporter": "python",
   "pygments_lexer": "ipython3",
   "version": "3.7.1"
  }
 },
 "nbformat": 4,
 "nbformat_minor": 4
}
